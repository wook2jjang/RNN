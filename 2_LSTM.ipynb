{
 "cells": [
  {
   "cell_type": "code",
   "execution_count": 1,
   "id": "268dc497",
   "metadata": {},
   "outputs": [],
   "source": [
    "import numpy as np\n",
    "import torch\n",
    "import torch.nn as nn\n",
    "import torch.nn.functional as F"
   ]
  },
  {
   "cell_type": "markdown",
   "id": "2298bfb5",
   "metadata": {},
   "source": [
    "# 1. LSTM with single data\n",
    "## len(seq) = 3, dim(input)= 5"
   ]
  },
  {
   "cell_type": "markdown",
   "id": "9e9bb092",
   "metadata": {},
   "source": [
    "### (1) LSTM with numpy (from scratch)"
   ]
  },
  {
   "cell_type": "markdown",
   "id": "ab62a97b",
   "metadata": {},
   "source": [
    "\\begin{array}{ll} \\\\\n",
    "        i_t = \\sigma(W_{ii} x_t + b_{ii} + W_{hi} h_{t-1} + b_{hi}) \\\\\n",
    "        f_t = \\sigma(W_{if} x_t + b_{if} + W_{hf} h_{t-1} + b_{hf}) \\\\\n",
    "        g_t = \\tanh(W_{ig} x_t + b_{ig} + W_{hg} h_{t-1} + b_{hg}) \\\\\n",
    "        o_t = \\sigma(W_{io} x_t + b_{io} + W_{ho} h_{t-1} + b_{ho}) \\\\\n",
    "        c_t = f_t \\odot c_{t-1} + i_t \\odot g_t \\\\\n",
    "        h_t = o_t \\odot \\tanh(c_t) \\\\\n",
    "    \\end{array}"
   ]
  },
  {
   "cell_type": "code",
   "execution_count": 2,
   "id": "ab53ddf5",
   "metadata": {},
   "outputs": [],
   "source": [
    "## input-to-??\n",
    "W_ii = np.array([[1,0],[0,1],[1,0],[0,1],[1,1]]) # x-to-input_gate\n",
    "W_if = np.array([[1,0],[0,1],[1,0],[0,1],[1,1]]) # x-to-forget_gate\n",
    "W_ig = np.array([[1,0],[0,1],[1,0],[0,1],[1,1]]) # x-to-cell_state\n",
    "W_io = np.array([[1,0],[0,1],[1,0],[0,1],[1,1]]) # x-to-output_gate\n",
    "\n",
    "## hidden-to-??\n",
    "W_hi = np.array([[1,0],[0,1]]) # h-to-input_gate\n",
    "W_hf = np.array([[1,0],[0,1]]) # h-to-forget_gate\n",
    "W_hg = np.array([[1,0],[0,1]]) # h-to-cell_state\n",
    "W_ho = np.array([[1,0],[0,1]]) # h-to-output_gate\n",
    "\n",
    "h0 = np.array([[[0,0]]])\n",
    "c0 = np.array([[[0,0]]])"
   ]
  },
  {
   "cell_type": "code",
   "execution_count": 3,
   "id": "1e330c4f",
   "metadata": {},
   "outputs": [],
   "source": [
    "def sigmoid(x):\n",
    "    \"\"\"\n",
    "    return sigmoid output\n",
    "    \"\"\"\n",
    "    result = 1/(1+np.exp(-x))\n",
    "    return result   \n",
    "\n",
    "def tanh(x):\n",
    "    \"\"\"\n",
    "    return tanh output\n",
    "    \"\"\"\n",
    "    result = (np.exp(x) - np.exp(-x)) / (np.exp(x) + np.exp(-x))\n",
    "    return result"
   ]
  },
  {
   "cell_type": "code",
   "execution_count": 4,
   "id": "cdf3eea4",
   "metadata": {},
   "outputs": [
    {
     "name": "stdout",
     "output_type": "stream",
     "text": [
      "[[[1 1 1 1 1]\n",
      "  [2 2 2 2 2]\n",
      "  [3 3 3 3 3]]]\n"
     ]
    }
   ],
   "source": [
    "numpy_x = np.array([[[1,1,1,1,1],\n",
    "                     [2,2,2,2,2],\n",
    "                     [3,3,3,3,3]]])\n",
    "print(numpy_x)"
   ]
  },
  {
   "cell_type": "code",
   "execution_count": 5,
   "id": "a93e5679",
   "metadata": {},
   "outputs": [],
   "source": [
    "# time 1\n",
    "i1 = sigmoid(np.matmul(numpy_x[0][0], W_ii) + np.matmul(h0, W_hi))\n",
    "f1 = sigmoid(np.matmul(numpy_x[0][0], W_if) + np.matmul(h0, W_hf))\n",
    "g1 = tanh(np.matmul(numpy_x[0][0], W_ig) + np.matmul(h0, W_hg))\n",
    "o1 = sigmoid(np.matmul(numpy_x[0][0], W_io) + np.matmul(h0, W_ho))\n",
    "\n",
    "c1 = np.multiply(f1, c0) + np.multiply(i1, g1)\n",
    "h1 = np.multiply(o1, tanh(c1))\n",
    "\n",
    "# time 2\n",
    "i2 = sigmoid(np.matmul(numpy_x[0][1], W_ii) + np.matmul(h1, W_hi))\n",
    "f2 = sigmoid(np.matmul(numpy_x[0][1], W_if) + np.matmul(h1, W_hf))\n",
    "g2 = tanh(np.matmul(numpy_x[0][1], W_ig) + np.matmul(h1, W_hg))\n",
    "o2 = sigmoid(np.matmul(numpy_x[0][1], W_io) + np.matmul(h1, W_ho))\n",
    "\n",
    "c2 = np.multiply(f2, c1) + np.multiply(i2, g2)\n",
    "h2 = np.multiply(o2, tanh(c2))\n",
    "\n",
    "# time 3\n",
    "i3 = sigmoid(np.matmul(numpy_x[0][2], W_ii) + np.matmul(h2, W_hi))\n",
    "f3 = sigmoid(np.matmul(numpy_x[0][2], W_if) + np.matmul(h2, W_hf))\n",
    "g3 = tanh(np.matmul(numpy_x[0][2], W_ig) + np.matmul(h2, W_hg))\n",
    "o3 = sigmoid(np.matmul(numpy_x[0][2], W_io) + np.matmul(h2, W_ho))\n",
    "\n",
    "c3 = np.multiply(f3, c2) + np.multiply(i3, g3)\n",
    "h3 = np.multiply(o3, tanh(c3))"
   ]
  },
  {
   "cell_type": "code",
   "execution_count": 6,
   "id": "12ff3c39",
   "metadata": {},
   "outputs": [
    {
     "name": "stdout",
     "output_type": "stream",
     "text": [
      "[[[0.70377533 0.70377533]]]\n",
      "[[[0.95879011 0.95879011]]]\n",
      "[[[0.99443796 0.99443796]]]\n",
      "\n",
      "[[[0.94786341 0.94786341]]]\n",
      "[[[1.94547472 1.94547472]]]\n",
      "[[[2.94533537 2.94533537]]]\n"
     ]
    }
   ],
   "source": [
    "print(h1)\n",
    "print(h2)\n",
    "print(h3)\n",
    "print()\n",
    "print(c1)\n",
    "print(c2)\n",
    "print(c3)"
   ]
  },
  {
   "cell_type": "code",
   "execution_count": 7,
   "id": "66603f8a",
   "metadata": {},
   "outputs": [
    {
     "name": "stdout",
     "output_type": "stream",
     "text": [
      "[[[0.70377533 0.70377533]\n",
      "  [0.95879011 0.95879011]\n",
      "  [0.99443796 0.99443796]]]\n",
      "\n",
      "[[[0.99443796 0.99443796]]]\n",
      "\n",
      "[[[2.94533537 2.94533537]]]\n"
     ]
    }
   ],
   "source": [
    "numpy_outs = np.concatenate((h1,h2,h3), axis=1)\n",
    "numpy_hn = h3\n",
    "numpy_cn = c3\n",
    "print(numpy_outs)\n",
    "print()\n",
    "print(numpy_hn)\n",
    "print()\n",
    "print(numpy_cn)"
   ]
  },
  {
   "cell_type": "code",
   "execution_count": 8,
   "id": "e895f797",
   "metadata": {},
   "outputs": [
    {
     "data": {
      "text/plain": [
       "array([[[2.94533537, 2.94533537]]])"
      ]
     },
     "execution_count": 8,
     "metadata": {},
     "output_type": "execute_result"
    }
   ],
   "source": [
    "c3"
   ]
  },
  {
   "cell_type": "markdown",
   "id": "a7cac23d",
   "metadata": {},
   "source": [
    "### (2) LSTM with pytorch (with higher-level LSTM class)"
   ]
  },
  {
   "cell_type": "code",
   "execution_count": 9,
   "id": "b853600c",
   "metadata": {},
   "outputs": [],
   "source": [
    "rnn = nn.LSTM(input_size=5, hidden_size=2,\n",
    "              num_layers=1, bias=False, batch_first=True)"
   ]
  },
  {
   "cell_type": "markdown",
   "id": "bf4d5e25",
   "metadata": {},
   "source": [
    "### [KOR]\n",
    "- <span style = 'font-size:1.2em;line-height:1.5em'>rnn의 현재 W_xh, W_hh값은 random하게 정해져있는 상태</span>\n",
    "- <span style = 'font-size:1.2em;line-height:1.5em'>위에서 정한 W_xh, W_hh로 이를 대체하자</span>\n",
    "\n",
    "### [ENG]\n",
    "- <span style = 'font-size:1.2em;line-height:1.5em'>The initial value of each parameter (W_xh, W_hh) is randomly selected.</span>\n",
    "- <span style = 'font-size:1.2em;line-height:1.5em'>Replace these values with previously declared ones</span>"
   ]
  },
  {
   "cell_type": "markdown",
   "id": "e2ebdd73",
   "metadata": {},
   "source": [
    "- <span style = 'font-size:1.1em;line-height:1.5em'><b>[KOR]</b> rnn에 어떤 parameter들이 있는지 확인하기</span>\n",
    "- <span style = 'font-size:1.1em;line-height:1.5em'><b>[ENG]</b> Check parameter values</span>"
   ]
  },
  {
   "cell_type": "code",
   "execution_count": 10,
   "id": "78c4eb4b",
   "metadata": {},
   "outputs": [
    {
     "name": "stdout",
     "output_type": "stream",
     "text": [
      "weight_ih_l0\n",
      "torch.Size([8, 5])\n",
      "\n",
      "weight_hh_l0\n",
      "torch.Size([8, 2])\n",
      "\n"
     ]
    }
   ],
   "source": [
    "for layer in rnn.state_dict():\n",
    "    print(layer)\n",
    "    print(rnn.state_dict()[layer].size())\n",
    "    print()"
   ]
  },
  {
   "cell_type": "code",
   "execution_count": 11,
   "id": "820c5bd6",
   "metadata": {},
   "outputs": [
    {
     "name": "stdout",
     "output_type": "stream",
     "text": [
      "[[1 0 1 0 1 0 1 0]\n",
      " [0 1 0 1 0 1 0 1]\n",
      " [1 0 1 0 1 0 1 0]\n",
      " [0 1 0 1 0 1 0 1]\n",
      " [1 1 1 1 1 1 1 1]]\n"
     ]
    }
   ],
   "source": [
    "W_xh = np.concatenate((W_ii, W_if, W_ig, W_io), axis=1)\n",
    "print(W_xh)"
   ]
  },
  {
   "cell_type": "code",
   "execution_count": 12,
   "id": "34c4add4",
   "metadata": {},
   "outputs": [
    {
     "name": "stdout",
     "output_type": "stream",
     "text": [
      "[[1 0 1 0 1 0 1 0]\n",
      " [0 1 0 1 0 1 0 1]]\n"
     ]
    }
   ],
   "source": [
    "W_hh = np.concatenate((W_hi, W_hf, W_hg, W_ho), axis=1)\n",
    "print(W_hh)"
   ]
  },
  {
   "cell_type": "markdown",
   "id": "d955b12e",
   "metadata": {},
   "source": [
    "- <span style = 'font-size:1.1em;line-height:1.5em'><b>[KOR]</b> rnn의 parameter에 들어있던 값들을 미리 지정한 값으로 대체하기</span>\n",
    "- <span style = 'font-size:1.1em;line-height:1.5em'><b>[ENG]</b> Replace parameter values of RNN with previously declared ones</span>"
   ]
  },
  {
   "cell_type": "code",
   "execution_count": 13,
   "id": "524425e5",
   "metadata": {},
   "outputs": [],
   "source": [
    "W_xh = torch.from_numpy(np.transpose(W_xh))\n",
    "W_hh = torch.from_numpy(np.transpose(W_hh))\n",
    "\n",
    "with torch.no_grad():\n",
    "    rnn.weight_ih_l0 = nn.Parameter(W_xh.float())\n",
    "    rnn.weight_hh_l0 = nn.Parameter(W_hh.float())"
   ]
  },
  {
   "cell_type": "markdown",
   "id": "75d9b484",
   "metadata": {},
   "source": [
    "### [KOR]\n",
    "- <span style = 'font-size:1.2em;line-height:1.5em'>Forward Propagation을 실행</span>\n",
    "    - <span style = 'font-size:1.1em;line-height:1.5em'>hs: 각 시점의 hidden_state 값</span>\n",
    "    - <span style = 'font-size:1.1em;line-height:1.5em'>out: 최종 시점의 hidden_state 값</span>\n",
    "\n",
    "### [ENG]\n",
    "- <span style = 'font-size:1.2em;line-height:1.5em'>Calculate the output value (Forward Propagation)</span>\n",
    "    - <span style = 'font-size:1.1em;line-height:1.5em'>hs: The values of hidden state for each time.</span>\n",
    "    - <span style = 'font-size:1.1em;line-height:1.5em'>out: Final output value </span>"
   ]
  },
  {
   "cell_type": "code",
   "execution_count": 15,
   "id": "e2d1868b",
   "metadata": {},
   "outputs": [
    {
     "name": "stdout",
     "output_type": "stream",
     "text": [
      "tensor([[[1., 1., 1., 1., 1.],\n",
      "         [2., 2., 2., 2., 2.],\n",
      "         [3., 3., 3., 3., 3.]]])\n"
     ]
    }
   ],
   "source": [
    "numpy_x = np.array([[[1,1,1,1,1],[2,2,2,2,2],[3,3,3,3,3]]])\n",
    "torch_x = torch.Tensor(numpy_x)\n",
    "print(torch_x)"
   ]
  },
  {
   "cell_type": "code",
   "execution_count": 16,
   "id": "d17349f9",
   "metadata": {},
   "outputs": [
    {
     "name": "stdout",
     "output_type": "stream",
     "text": [
      "tensor([[[0.7038, 0.7038],\n",
      "         [0.9588, 0.9588],\n",
      "         [0.9944, 0.9944]]], grad_fn=<TransposeBackward0>)\n",
      "tensor([[[0.9944, 0.9944]]], grad_fn=<StackBackward0>)\n",
      "tensor([[[2.9453, 2.9453]]], grad_fn=<StackBackward0>)\n"
     ]
    }
   ],
   "source": [
    "torch_outs, (torch_hn, torch_cn) = rnn(torch_x)\n",
    "print(torch_outs)\n",
    "print(torch_hn)\n",
    "print(torch_cn)"
   ]
  },
  {
   "cell_type": "markdown",
   "id": "cc101ac9",
   "metadata": {},
   "source": [
    "### Compare between results"
   ]
  },
  {
   "cell_type": "code",
   "execution_count": 20,
   "id": "1714a293",
   "metadata": {},
   "outputs": [
    {
     "name": "stdout",
     "output_type": "stream",
     "text": [
      "[[[0.99443796 0.99443796]]]\n",
      "tensor([[[0.9944, 0.9944]]], grad_fn=<StackBackward0>)\n"
     ]
    }
   ],
   "source": [
    "print(numpy_hn)\n",
    "print(torch_hn)"
   ]
  },
  {
   "cell_type": "code",
   "execution_count": 21,
   "id": "5c24a8d1",
   "metadata": {},
   "outputs": [
    {
     "name": "stdout",
     "output_type": "stream",
     "text": [
      "[[[2.94533537 2.94533537]]]\n",
      "tensor([[[2.9453, 2.9453]]], grad_fn=<StackBackward0>)\n"
     ]
    }
   ],
   "source": [
    "print(numpy_cn)\n",
    "print(torch_cn)"
   ]
  },
  {
   "cell_type": "code",
   "execution_count": 22,
   "id": "60e42ed6",
   "metadata": {},
   "outputs": [
    {
     "name": "stdout",
     "output_type": "stream",
     "text": [
      "[[[0.70377533 0.70377533]\n",
      "  [0.95879011 0.95879011]\n",
      "  [0.99443796 0.99443796]]]\n",
      "tensor([[[0.7038, 0.7038],\n",
      "         [0.9588, 0.9588],\n",
      "         [0.9944, 0.9944]]], grad_fn=<TransposeBackward0>)\n"
     ]
    }
   ],
   "source": [
    "print(numpy_outs)\n",
    "print(torch_outs)"
   ]
  },
  {
   "cell_type": "markdown",
   "id": "7d8588ed",
   "metadata": {},
   "source": [
    "# 2. LSTM with mini-batch data\n",
    "## n_data = 2, len(seq) = 3, dim(input)= 5"
   ]
  },
  {
   "cell_type": "markdown",
   "id": "8fcbafd3",
   "metadata": {},
   "source": [
    "\\begin{array}{ll} \\\\\n",
    "        i_t = \\sigma(W_{ii} x_t + b_{ii} + W_{hi} h_{t-1} + b_{hi}) \\\\\n",
    "        f_t = \\sigma(W_{if} x_t + b_{if} + W_{hf} h_{t-1} + b_{hf}) \\\\\n",
    "        g_t = \\tanh(W_{ig} x_t + b_{ig} + W_{hg} h_{t-1} + b_{hg}) \\\\\n",
    "        o_t = \\sigma(W_{io} x_t + b_{io} + W_{ho} h_{t-1} + b_{ho}) \\\\\n",
    "        c_t = f_t \\odot c_{t-1} + i_t \\odot g_t \\\\\n",
    "        h_t = o_t \\odot \\tanh(c_t) \\\\\n",
    "    \\end{array}"
   ]
  },
  {
   "cell_type": "markdown",
   "id": "59301c7f",
   "metadata": {},
   "source": [
    "### (1) RNN with numpy (from scratch)"
   ]
  },
  {
   "cell_type": "code",
   "execution_count": 23,
   "id": "bb6b63a7",
   "metadata": {},
   "outputs": [],
   "source": [
    "## input-to-??\n",
    "W_ii = np.array([[1,0],[0,1],[1,0],[0,1],[1,1]]) # x-to-input_gate\n",
    "W_if = np.array([[1,0],[0,1],[1,0],[0,1],[1,1]]) # x-to-forget_gate\n",
    "W_ig = np.array([[1,0],[0,1],[1,0],[0,1],[1,1]]) # x-to-cell_state\n",
    "W_io = np.array([[1,0],[0,1],[1,0],[0,1],[1,1]]) # x-to-output_gate\n",
    "\n",
    "## hidden-to-??\n",
    "W_hi = np.array([[1,0],[0,1]]) # h-to-input_gate\n",
    "W_hf = np.array([[1,0],[0,1]]) # h-to-forget_gate\n",
    "W_hg = np.array([[1,0],[0,1]]) # h-to-cell_state\n",
    "W_ho = np.array([[1,0],[0,1]]) # h-to-output_gate\n",
    "\n",
    "h0 = np.array([[[0,0]]])\n",
    "c0 = np.array([[[0,0]]])"
   ]
  },
  {
   "cell_type": "code",
   "execution_count": 24,
   "id": "99501074",
   "metadata": {},
   "outputs": [],
   "source": [
    "def sigmoid(x):\n",
    "    \"\"\"\n",
    "    return sigmoid output\n",
    "    \"\"\"\n",
    "    result = 1/(1+np.exp(-x))\n",
    "    return result   \n",
    "\n",
    "def tanh(x):\n",
    "    \"\"\"\n",
    "    return tanh output\n",
    "    \"\"\"\n",
    "    result = (np.exp(x) - np.exp(-x)) / (np.exp(x) + np.exp(-x))\n",
    "    return result"
   ]
  },
  {
   "cell_type": "code",
   "execution_count": 25,
   "id": "e7f2955e",
   "metadata": {},
   "outputs": [
    {
     "name": "stdout",
     "output_type": "stream",
     "text": [
      "[[[1 1 1 1 1]\n",
      "  [2 2 2 2 2]\n",
      "  [3 3 3 3 3]]\n",
      "\n",
      " [[3 3 3 3 3]\n",
      "  [2 2 2 2 2]\n",
      "  [1 1 1 1 1]]]\n"
     ]
    }
   ],
   "source": [
    "numpy_x = np.array([[[1,1,1,1,1],[2,2,2,2,2],[3,3,3,3,3]], \n",
    "                    [[3,3,3,3,3],[2,2,2,2,2],[1,1,1,1,1]]])\n",
    "print(numpy_x)"
   ]
  },
  {
   "cell_type": "code",
   "execution_count": 26,
   "id": "0e70eea1",
   "metadata": {},
   "outputs": [
    {
     "name": "stdout",
     "output_type": "stream",
     "text": [
      "[[[0.99443796 0.99443796]\n",
      "  [0.97588385 0.97588385]]]\n",
      "\n",
      "[[[2.94533537 2.94533537]\n",
      "  [2.9409292  2.9409292 ]]]\n",
      "\n",
      "[[[0.70377533 0.70377533]\n",
      "  [0.95879011 0.95879011]\n",
      "  [0.99443796 0.99443796]]\n",
      "\n",
      " [[0.76144835 0.76144835]\n",
      "  [0.96274048 0.96274048]\n",
      "  [0.97588385 0.97588385]]]\n"
     ]
    }
   ],
   "source": [
    "numpy_cn = []\n",
    "numpy_hn = []\n",
    "numpy_outs = []\n",
    "\n",
    "# mini-batch의 각 data에 대해서 forward propagation 수행\n",
    "for i in range(numpy_x.shape[0]): \n",
    "    # time 1\n",
    "    i1 = sigmoid(np.matmul(numpy_x[i][0], W_ii) + np.matmul(h0, W_hi))\n",
    "    f1 = sigmoid(np.matmul(numpy_x[i][0], W_if) + np.matmul(h0, W_hf))\n",
    "    g1 = tanh(np.matmul(numpy_x[i][0], W_ig) + np.matmul(h0, W_hg))\n",
    "    o1 = sigmoid(np.matmul(numpy_x[i][0], W_io) + np.matmul(h0, W_ho))\n",
    "    c1 = np.multiply(f1, c0) + np.multiply(i1, g1)\n",
    "    h1 = np.multiply(o1, tanh(c1))\n",
    "\n",
    "    # time 2\n",
    "    i2 = sigmoid(np.matmul(numpy_x[i][1], W_ii) + np.matmul(h1, W_hi))\n",
    "    f2 = sigmoid(np.matmul(numpy_x[i][1], W_if) + np.matmul(h1, W_hf))\n",
    "    g2 = tanh(np.matmul(numpy_x[i][1], W_ig) + np.matmul(h1, W_hg))\n",
    "    o2 = sigmoid(np.matmul(numpy_x[i][1], W_io) + np.matmul(h1, W_ho))\n",
    "    c2 = np.multiply(f2, c1) + np.multiply(i2, g2)\n",
    "    h2 = np.multiply(o2, tanh(c2))\n",
    "\n",
    "    # time 3\n",
    "    i3 = sigmoid(np.matmul(numpy_x[i][2], W_ii) + np.matmul(h2, W_hi))\n",
    "    f3 = sigmoid(np.matmul(numpy_x[i][2], W_if) + np.matmul(h2, W_hf))\n",
    "    g3 = tanh(np.matmul(numpy_x[i][2], W_ig) + np.matmul(h2, W_hg))\n",
    "    o3 = sigmoid(np.matmul(numpy_x[i][2], W_io) + np.matmul(h2, W_ho))\n",
    "    c3 = np.multiply(f3, c2) + np.multiply(i3, g3)\n",
    "    h3 = np.multiply(o3, tanh(c3))\n",
    "    \n",
    "    # 각 time마다 나온 hidden값을 concatenate\n",
    "    hs = np.concatenate((h1, h2, h3), axis=1) \n",
    "    numpy_outs.append(hs)\n",
    "    numpy_cn.append(c3)\n",
    "    numpy_hn.append(h3)\n",
    "\n",
    "# 각 data의 최종 hidden값들을 concatenate\n",
    "numpy_hn = np.concatenate(numpy_hn, axis=1)\n",
    "# 각 data의 최종 cell값들을 concatenate\n",
    "numpy_cn = np.concatenate(numpy_cn, axis=1)\n",
    "# 각 data에서 나온 모든 hidden값들을 concatenate\n",
    "numpy_outs = np.concatenate(numpy_outs, axis=0) # \n",
    "\n",
    "\n",
    "print(numpy_hn)\n",
    "print()\n",
    "print(numpy_cn)\n",
    "print()\n",
    "print(numpy_outs)"
   ]
  },
  {
   "cell_type": "markdown",
   "id": "e76da2d1",
   "metadata": {},
   "source": [
    "### (2) RNN with pytorch (with higher-level RNN class)"
   ]
  },
  {
   "cell_type": "code",
   "execution_count": 27,
   "id": "895549a1",
   "metadata": {},
   "outputs": [],
   "source": [
    "rnn = nn.LSTM(input_size=5, hidden_size=2,\n",
    "              num_layers=1, bias=False, batch_first=True)"
   ]
  },
  {
   "cell_type": "markdown",
   "id": "e645ada4",
   "metadata": {},
   "source": [
    "### [KOR]\n",
    "- <span style = 'font-size:1.2em;line-height:1.5em'>rnn의 현재 W_xh, W_hh값은 random하게 정해져있는 상태</span>\n",
    "- <span style = 'font-size:1.2em;line-height:1.5em'>위에서 정한 W_xh, W_hh로 이를 대체하자</span>\n",
    "\n",
    "### [ENG]\n",
    "- <span style = 'font-size:1.2em;line-height:1.5em'>The initial value of each parameter (W_xh, W_hh) is randomly selected.</span>\n",
    "- <span style = 'font-size:1.2em;line-height:1.5em'>Replace these values with previously declared ones</span>"
   ]
  },
  {
   "cell_type": "markdown",
   "id": "4a2b8f9b",
   "metadata": {},
   "source": [
    "- <span style = 'font-size:1.1em;line-height:1.5em'><b>[KOR]</b> rnn에 어떤 parameter들이 있는지 확인하기</span>\n",
    "- <span style = 'font-size:1.1em;line-height:1.5em'><b>[ENG]</b> Check parameter values</span>"
   ]
  },
  {
   "cell_type": "code",
   "execution_count": 28,
   "id": "ea54ee0b",
   "metadata": {},
   "outputs": [
    {
     "name": "stdout",
     "output_type": "stream",
     "text": [
      "weight_ih_l0\n",
      "torch.Size([8, 5])\n",
      "\n",
      "weight_hh_l0\n",
      "torch.Size([8, 2])\n",
      "\n"
     ]
    }
   ],
   "source": [
    "for layer in rnn.state_dict():\n",
    "    print(layer)\n",
    "    print(rnn.state_dict()[layer].size())\n",
    "    print()"
   ]
  },
  {
   "cell_type": "code",
   "execution_count": 29,
   "id": "ec123ecf",
   "metadata": {},
   "outputs": [
    {
     "name": "stdout",
     "output_type": "stream",
     "text": [
      "[[1 0 1 0 1 0 1 0]\n",
      " [0 1 0 1 0 1 0 1]\n",
      " [1 0 1 0 1 0 1 0]\n",
      " [0 1 0 1 0 1 0 1]\n",
      " [1 1 1 1 1 1 1 1]]\n"
     ]
    }
   ],
   "source": [
    "W_xh = np.concatenate((W_ii, W_if, W_ig, W_io), axis=1)\n",
    "print(W_xh)"
   ]
  },
  {
   "cell_type": "code",
   "execution_count": 30,
   "id": "f36ac5b2",
   "metadata": {},
   "outputs": [
    {
     "name": "stdout",
     "output_type": "stream",
     "text": [
      "[[1 0 1 0 1 0 1 0]\n",
      " [0 1 0 1 0 1 0 1]]\n"
     ]
    }
   ],
   "source": [
    "W_hh = np.concatenate((W_hi, W_hf, W_hg, W_ho), axis=1)\n",
    "print(W_hh)"
   ]
  },
  {
   "cell_type": "markdown",
   "id": "b749525a",
   "metadata": {},
   "source": [
    "- <span style = 'font-size:1.1em;line-height:1.5em'><b>[KOR]</b> rnn의 parameter에 들어있던 값들을 미리 지정한 값으로 대체하기</span>\n",
    "- <span style = 'font-size:1.1em;line-height:1.5em'><b>[ENG]</b> Replace parameter values of RNN with previously declared ones</span>"
   ]
  },
  {
   "cell_type": "code",
   "execution_count": 31,
   "id": "e37c871b",
   "metadata": {},
   "outputs": [],
   "source": [
    "with torch.no_grad():\n",
    "    rnn.weight_ih_l0 = nn.Parameter(torch.from_numpy(np.transpose(W_xh)).float())\n",
    "    rnn.weight_hh_l0 = nn.Parameter(torch.from_numpy(np.transpose(W_hh)).float())"
   ]
  },
  {
   "cell_type": "markdown",
   "id": "0bb7f0b9",
   "metadata": {},
   "source": [
    "### [KOR]\n",
    "- <span style = 'font-size:1.2em;line-height:1.5em'>Forward Propagation을 실행</span>\n",
    "    - <span style = 'font-size:1.1em;line-height:1.5em'>hs: 각 시점의 hidden_state 값</span>\n",
    "    - <span style = 'font-size:1.1em;line-height:1.5em'>out: 최종 시점의 hidden_state 값</span>\n",
    "\n",
    "### [ENG]\n",
    "- <span style = 'font-size:1.2em;line-height:1.5em'>Calculate the output value (Forward Propagation)</span>\n",
    "    - <span style = 'font-size:1.1em;line-height:1.5em'>hs: The values of hidden state for each time.</span>\n",
    "    - <span style = 'font-size:1.1em;line-height:1.5em'>out: Final output value </span>"
   ]
  },
  {
   "cell_type": "code",
   "execution_count": 32,
   "id": "4ffdb9ca",
   "metadata": {},
   "outputs": [
    {
     "name": "stdout",
     "output_type": "stream",
     "text": [
      "tensor([[[1., 1., 1., 1., 1.],\n",
      "         [2., 2., 2., 2., 2.],\n",
      "         [3., 3., 3., 3., 3.]],\n",
      "\n",
      "        [[3., 3., 3., 3., 3.],\n",
      "         [2., 2., 2., 2., 2.],\n",
      "         [1., 1., 1., 1., 1.]]])\n"
     ]
    }
   ],
   "source": [
    "numpy_x = np.array([[[1,1,1,1,1],[2,2,2,2,2],[3,3,3,3,3]],\n",
    "                    [[3,3,3,3,3],[2,2,2,2,2],[1,1,1,1,1]]])\n",
    "torch_x = torch.Tensor(numpy_x)\n",
    "print(torch_x)"
   ]
  },
  {
   "cell_type": "code",
   "execution_count": 37,
   "id": "888b1960",
   "metadata": {},
   "outputs": [
    {
     "data": {
      "text/plain": [
       "torch.Size([2, 3, 5])"
      ]
     },
     "execution_count": 37,
     "metadata": {},
     "output_type": "execute_result"
    }
   ],
   "source": [
    "torch_x.shape"
   ]
  },
  {
   "cell_type": "code",
   "execution_count": 33,
   "id": "0a4b92d1",
   "metadata": {},
   "outputs": [
    {
     "name": "stdout",
     "output_type": "stream",
     "text": [
      "tensor([[[0.9944, 0.9944],\n",
      "         [0.9759, 0.9759]]], grad_fn=<StackBackward0>)\n",
      "tensor([[[2.9453, 2.9453],\n",
      "         [2.9409, 2.9409]]], grad_fn=<StackBackward0>)\n",
      "tensor([[[0.7038, 0.7038],\n",
      "         [0.9588, 0.9588],\n",
      "         [0.9944, 0.9944]],\n",
      "\n",
      "        [[0.7614, 0.7614],\n",
      "         [0.9627, 0.9627],\n",
      "         [0.9759, 0.9759]]], grad_fn=<TransposeBackward0>)\n"
     ]
    }
   ],
   "source": [
    "torch_outs, (torch_hn, torch_cn) = rnn(torch_x)\n",
    "print(torch_hn)\n",
    "print(torch_cn)\n",
    "print(torch_outs)"
   ]
  },
  {
   "cell_type": "markdown",
   "id": "192f708f",
   "metadata": {},
   "source": [
    "### Compare between results"
   ]
  },
  {
   "cell_type": "code",
   "execution_count": 34,
   "id": "0dbb6c6f",
   "metadata": {},
   "outputs": [
    {
     "name": "stdout",
     "output_type": "stream",
     "text": [
      "[[[0.99443796 0.99443796]\n",
      "  [0.97588385 0.97588385]]]\n",
      "tensor([[[0.9944, 0.9944],\n",
      "         [0.9759, 0.9759]]], grad_fn=<StackBackward0>)\n"
     ]
    }
   ],
   "source": [
    "print(numpy_hn)\n",
    "print(torch_hn)"
   ]
  },
  {
   "cell_type": "code",
   "execution_count": 35,
   "id": "fc66a641",
   "metadata": {},
   "outputs": [
    {
     "name": "stdout",
     "output_type": "stream",
     "text": [
      "[[[2.94533537 2.94533537]\n",
      "  [2.9409292  2.9409292 ]]]\n",
      "tensor([[[2.9453, 2.9453],\n",
      "         [2.9409, 2.9409]]], grad_fn=<StackBackward0>)\n"
     ]
    }
   ],
   "source": [
    "print(numpy_cn)\n",
    "print(torch_cn)"
   ]
  },
  {
   "cell_type": "code",
   "execution_count": 36,
   "id": "6813d664",
   "metadata": {},
   "outputs": [
    {
     "name": "stdout",
     "output_type": "stream",
     "text": [
      "[[[0.70377533 0.70377533]\n",
      "  [0.95879011 0.95879011]\n",
      "  [0.99443796 0.99443796]]\n",
      "\n",
      " [[0.76144835 0.76144835]\n",
      "  [0.96274048 0.96274048]\n",
      "  [0.97588385 0.97588385]]]\n",
      "tensor([[[0.7038, 0.7038],\n",
      "         [0.9588, 0.9588],\n",
      "         [0.9944, 0.9944]],\n",
      "\n",
      "        [[0.7614, 0.7614],\n",
      "         [0.9627, 0.9627],\n",
      "         [0.9759, 0.9759]]], grad_fn=<TransposeBackward0>)\n"
     ]
    }
   ],
   "source": [
    "print(numpy_outs)\n",
    "print(torch_outs)"
   ]
  },
  {
   "cell_type": "code",
   "execution_count": null,
   "id": "1cc30c97",
   "metadata": {},
   "outputs": [],
   "source": []
  },
  {
   "cell_type": "code",
   "execution_count": null,
   "id": "27cbcfa9",
   "metadata": {},
   "outputs": [],
   "source": []
  }
 ],
 "metadata": {
  "kernelspec": {
   "display_name": "Python 3 (ipykernel)",
   "language": "python",
   "name": "python3"
  },
  "language_info": {
   "codemirror_mode": {
    "name": "ipython",
    "version": 3
   },
   "file_extension": ".py",
   "mimetype": "text/x-python",
   "name": "python",
   "nbconvert_exporter": "python",
   "pygments_lexer": "ipython3",
   "version": "3.9.12"
  }
 },
 "nbformat": 4,
 "nbformat_minor": 5
}
