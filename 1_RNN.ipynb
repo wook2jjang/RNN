{
 "cells": [
  {
   "cell_type": "code",
   "execution_count": 1,
   "id": "268dc497",
   "metadata": {},
   "outputs": [],
   "source": [
    "import numpy as np\n",
    "import torch\n",
    "import torch.nn as nn\n",
    "import torch.nn.functional as F"
   ]
  },
  {
   "cell_type": "markdown",
   "id": "2298bfb5",
   "metadata": {},
   "source": [
    "# 1. RNN with single data\n",
    "## len(seq) = 3, dim(input)= 5"
   ]
  },
  {
   "cell_type": "markdown",
   "id": "9e9bb092",
   "metadata": {},
   "source": [
    "### (1) RNN with numpy (from scratch)"
   ]
  },
  {
   "cell_type": "code",
   "execution_count": 4,
   "id": "cdf3eea4",
   "metadata": {},
   "outputs": [
    {
     "name": "stdout",
     "output_type": "stream",
     "text": [
      "[[[1 1 1 1 1]\n",
      "  [2 2 2 2 2]\n",
      "  [3 3 3 3 3]]]\n"
     ]
    }
   ],
   "source": [
    "numpy_x = np.array([[[1,1,1,1,1],[2,2,2,2,2],[3,3,3,3,3]]])\n",
    "print(numpy_x)"
   ]
  },
  {
   "cell_type": "code",
   "execution_count": 2,
   "id": "06dc7afa",
   "metadata": {},
   "outputs": [],
   "source": [
    "W_xh = np.array([[1,0],[0,1],[1,0],[0,1],[1,1]])\n",
    "W_hh = np.array([[1,1],[1,1]])\n",
    "h0 = np.array([[[0,0]]])"
   ]
  },
  {
   "cell_type": "code",
   "execution_count": 3,
   "id": "61277225",
   "metadata": {},
   "outputs": [
    {
     "name": "stdout",
     "output_type": "stream",
     "text": [
      "[[1 0]\n",
      " [0 1]\n",
      " [1 0]\n",
      " [0 1]\n",
      " [1 1]]\n"
     ]
    }
   ],
   "source": [
    "print(W_xh)"
   ]
  },
  {
   "cell_type": "code",
   "execution_count": 5,
   "id": "7d121114",
   "metadata": {},
   "outputs": [
    {
     "name": "stdout",
     "output_type": "stream",
     "text": [
      "[[1 1]\n",
      " [1 1]]\n"
     ]
    }
   ],
   "source": [
    "print(W_hh)"
   ]
  },
  {
   "cell_type": "code",
   "execution_count": 6,
   "id": "05cab239",
   "metadata": {},
   "outputs": [],
   "source": [
    "def numpy_relu(x):\n",
    "    return np.maximum(0, x)"
   ]
  },
  {
   "cell_type": "code",
   "execution_count": 7,
   "id": "eb516e3b",
   "metadata": {},
   "outputs": [],
   "source": [
    "h1 = np.matmul(numpy_x[0][0], W_xh) + np.matmul(h0, W_hh)\n",
    "h1 = numpy_relu(h1)\n",
    "\n",
    "h2 = np.matmul(numpy_x[0][1], W_xh) + np.matmul(h1, W_hh)\n",
    "h2 = numpy_relu(h2)\n",
    "\n",
    "h3 = np.matmul(numpy_x[0][2], W_xh) + np.matmul(h2, W_hh)\n",
    "h3 = numpy_relu(h3)"
   ]
  },
  {
   "cell_type": "code",
   "execution_count": 8,
   "id": "a28338ff",
   "metadata": {},
   "outputs": [
    {
     "name": "stdout",
     "output_type": "stream",
     "text": [
      "[[[3 3]]]\n",
      "[[[12 12]]]\n",
      "[[[33 33]]]\n"
     ]
    }
   ],
   "source": [
    "print(h1)\n",
    "print(h2)\n",
    "print(h3)"
   ]
  },
  {
   "cell_type": "code",
   "execution_count": 9,
   "id": "f175e38b",
   "metadata": {},
   "outputs": [
    {
     "name": "stdout",
     "output_type": "stream",
     "text": [
      "[[[ 3  3]\n",
      "  [12 12]\n",
      "  [33 33]]]\n",
      "\n",
      "[[[33 33]]]\n"
     ]
    }
   ],
   "source": [
    "numpy_out = np.concatenate((h1,h2,h3), axis=1)\n",
    "numpy_hn  = h3\n",
    "\n",
    "print(numpy_out)\n",
    "print()\n",
    "print(numpy_hn)"
   ]
  },
  {
   "cell_type": "markdown",
   "id": "a7cac23d",
   "metadata": {},
   "source": [
    "### (2) RNN with pytorch (with higher-level RNN class)"
   ]
  },
  {
   "cell_type": "code",
   "execution_count": 10,
   "id": "b853600c",
   "metadata": {},
   "outputs": [],
   "source": [
    "rnn = nn.RNN(input_size=5, hidden_size=2, \n",
    "             num_layers=1, nonlinearity='relu',\n",
    "             bias=False, batch_first=True)"
   ]
  },
  {
   "cell_type": "markdown",
   "id": "bf4d5e25",
   "metadata": {},
   "source": [
    "### [KOR]\n",
    "- <span style = 'font-size:1.2em;line-height:1.5em'>rnn의 현재 W_xh, W_hh값은 random하게 정해져있는 상태</span>\n",
    "- <span style = 'font-size:1.2em;line-height:1.5em'>위에서 정한 W_xh, W_hh로 이를 대체하자</span>\n",
    "\n",
    "### [ENG]\n",
    "- <span style = 'font-size:1.2em;line-height:1.5em'>The initial value of each parameter (W_xh, W_hh) is randomly selected.</span>\n",
    "- <span style = 'font-size:1.2em;line-height:1.5em'>Replace these values with previously declared ones</span>"
   ]
  },
  {
   "cell_type": "markdown",
   "id": "e2ebdd73",
   "metadata": {},
   "source": [
    "- <span style = 'font-size:1.1em;line-height:1.5em'><b>[KOR]</b> rnn에 어떤 parameter들이 있는지 확인하기</span>\n",
    "- <span style = 'font-size:1.1em;line-height:1.5em'><b>[ENG]</b> Check parameter values</span>"
   ]
  },
  {
   "cell_type": "code",
   "execution_count": 11,
   "id": "78c4eb4b",
   "metadata": {},
   "outputs": [
    {
     "name": "stdout",
     "output_type": "stream",
     "text": [
      "weight_ih_l0\n",
      "torch.Size([2, 5])\n",
      "\n",
      "weight_hh_l0\n",
      "torch.Size([2, 2])\n",
      "\n"
     ]
    }
   ],
   "source": [
    "for layer in rnn.state_dict():\n",
    "    print(layer)\n",
    "    print(rnn.state_dict()[layer].size())\n",
    "    print()"
   ]
  },
  {
   "cell_type": "code",
   "execution_count": 12,
   "id": "978c2aa5",
   "metadata": {},
   "outputs": [],
   "source": [
    "W_xh = np.array([[1,0],[0,1],[1,0],[0,1],[1,1]])\n",
    "W_hh = np.array([[1,1],[1,1]])\n",
    "h0 = np.array([[[0,0]]])"
   ]
  },
  {
   "cell_type": "markdown",
   "id": "d955b12e",
   "metadata": {},
   "source": [
    "- <span style = 'font-size:1.1em;line-height:1.5em'><b>[KOR]</b> rnn의 parameter에 들어있던 값들을 미리 지정한 값으로 대체하기</span>\n",
    "- <span style = 'font-size:1.1em;line-height:1.5em'><b>[ENG]</b> Replace parameter values of RNN with previously declared ones</span>"
   ]
  },
  {
   "cell_type": "code",
   "execution_count": 13,
   "id": "524425e5",
   "metadata": {},
   "outputs": [],
   "source": [
    "W_xh = torch.from_numpy(np.transpose(W_xh))\n",
    "W_hh = torch.from_numpy(np.transpose(W_hh))\n",
    "with torch.no_grad():\n",
    "    rnn.weight_ih_l0 = nn.Parameter(W_xh.float())\n",
    "    rnn.weight_hh_l0 = nn.Parameter(W_hh.float())"
   ]
  },
  {
   "cell_type": "markdown",
   "id": "75d9b484",
   "metadata": {},
   "source": [
    "### [KOR]\n",
    "- <span style = 'font-size:1.2em;line-height:1.5em'>Forward Propagation을 실행</span>\n",
    "    - <span style = 'font-size:1.1em;line-height:1.5em'>hs: 각 시점의 hidden_state 값</span>\n",
    "    - <span style = 'font-size:1.1em;line-height:1.5em'>out: 최종 시점의 hidden_state 값</span>\n",
    "\n",
    "### [ENG]\n",
    "- <span style = 'font-size:1.2em;line-height:1.5em'>Calculate the output value (Forward Propagation)</span>\n",
    "    - <span style = 'font-size:1.1em;line-height:1.5em'>hs: The values of hidden state for each time.</span>\n",
    "    - <span style = 'font-size:1.1em;line-height:1.5em'>out: Final output value </span>"
   ]
  },
  {
   "cell_type": "code",
   "execution_count": 14,
   "id": "e2d1868b",
   "metadata": {},
   "outputs": [
    {
     "name": "stdout",
     "output_type": "stream",
     "text": [
      "tensor([[[1., 1., 1., 1., 1.],\n",
      "         [2., 2., 2., 2., 2.],\n",
      "         [3., 3., 3., 3., 3.]]])\n"
     ]
    }
   ],
   "source": [
    "numpy_x = np.array([[[1,1,1,1,1],[2,2,2,2,2],[3,3,3,3,3]]])\n",
    "torch_x = torch.Tensor(numpy_x)\n",
    "print(torch_x)"
   ]
  },
  {
   "cell_type": "code",
   "execution_count": 15,
   "id": "d17349f9",
   "metadata": {},
   "outputs": [
    {
     "name": "stdout",
     "output_type": "stream",
     "text": [
      "tensor([[[ 3.,  3.],\n",
      "         [12., 12.],\n",
      "         [33., 33.]]], grad_fn=<TransposeBackward1>)\n",
      "tensor([[[33., 33.]]], grad_fn=<StackBackward0>)\n"
     ]
    }
   ],
   "source": [
    "torch_out, torch_hn = rnn(torch_x)\n",
    "print(torch_out)\n",
    "print(torch_hn)"
   ]
  },
  {
   "cell_type": "markdown",
   "id": "cc101ac9",
   "metadata": {},
   "source": [
    "### Compare between results"
   ]
  },
  {
   "cell_type": "code",
   "execution_count": 16,
   "id": "5deb5b1b",
   "metadata": {},
   "outputs": [
    {
     "name": "stdout",
     "output_type": "stream",
     "text": [
      "[[[ 3  3]\n",
      "  [12 12]\n",
      "  [33 33]]]\n",
      "tensor([[[ 3.,  3.],\n",
      "         [12., 12.],\n",
      "         [33., 33.]]], grad_fn=<TransposeBackward1>)\n"
     ]
    }
   ],
   "source": [
    "print(numpy_out)\n",
    "print(torch_out)"
   ]
  },
  {
   "cell_type": "code",
   "execution_count": 17,
   "id": "f75fa53b",
   "metadata": {},
   "outputs": [
    {
     "name": "stdout",
     "output_type": "stream",
     "text": [
      "[[[33 33]]]\n",
      "[[[ 3  3]\n",
      "  [12 12]\n",
      "  [33 33]]]\n"
     ]
    }
   ],
   "source": [
    "print(numpy_hn)\n",
    "print(numpy_out)"
   ]
  },
  {
   "cell_type": "markdown",
   "id": "7d8588ed",
   "metadata": {},
   "source": [
    "# 2. RNN with mini-batch data\n",
    "## n_data = 2, len(seq) = 3, dim(input)= 5"
   ]
  },
  {
   "cell_type": "markdown",
   "id": "59301c7f",
   "metadata": {},
   "source": [
    "### (1) RNN with numpy (from scratch)"
   ]
  },
  {
   "cell_type": "code",
   "execution_count": 24,
   "id": "e7f2955e",
   "metadata": {},
   "outputs": [
    {
     "name": "stdout",
     "output_type": "stream",
     "text": [
      "[[[1 1 1 1 1]\n",
      "  [2 2 2 2 2]\n",
      "  [3 3 3 3 3]]\n",
      "\n",
      " [[4 4 4 4 4]\n",
      "  [5 5 5 5 5]\n",
      "  [6 6 6 6 6]]]\n"
     ]
    }
   ],
   "source": [
    "numpy_x = np.array([[[1,1,1,1,1],[2,2,2,2,2],[3,3,3,3,3]], \n",
    "                    [[4,4,4,4,4],[5,5,5,5,5],[6,6,6,6,6]]])\n",
    "print(numpy_x)"
   ]
  },
  {
   "cell_type": "code",
   "execution_count": 25,
   "id": "668a8b27",
   "metadata": {},
   "outputs": [],
   "source": [
    "numpy_x = np.array([[[1,1,1,1,1],[2,2,2,2,2],[3,3,3,3,3]], \n",
    "                    [[3,3,3,3,3],[2,2,2,2,2],[1,1,1,1,1]]])\n",
    "torch_x = torch.Tensor(numpy_x)"
   ]
  },
  {
   "cell_type": "code",
   "execution_count": 26,
   "id": "9b22cab9",
   "metadata": {},
   "outputs": [],
   "source": [
    "W_xh = np.array([[1,0],[0,1],[1,0],[0,1],[1,1]])\n",
    "W_hh = np.array([[1,1],[1,1]])\n",
    "h0 = np.array([[[0,0]]])"
   ]
  },
  {
   "cell_type": "code",
   "execution_count": 27,
   "id": "853135a8",
   "metadata": {},
   "outputs": [],
   "source": [
    "def numpy_relu(x):\n",
    "    return np.maximum(0, x)"
   ]
  },
  {
   "cell_type": "code",
   "execution_count": 28,
   "id": "0e70eea1",
   "metadata": {},
   "outputs": [
    {
     "name": "stdout",
     "output_type": "stream",
     "text": [
      "[[[ 3  3]\n",
      "  [12 12]\n",
      "  [33 33]]\n",
      "\n",
      " [[ 9  9]\n",
      "  [24 24]\n",
      "  [51 51]]]\n",
      "\n",
      "[[[33 33]\n",
      "  [51 51]]]\n"
     ]
    }
   ],
   "source": [
    "numpy_out = []\n",
    "numpy_hn = []\n",
    "# mini-batch의 각 data에 대해서 forward propagation 수행\n",
    "for i in range(numpy_x.shape[0]): \n",
    "    h1 = np.matmul(numpy_x[i][0], W_xh) + np.matmul(h0, W_hh)\n",
    "    h1 = numpy_relu(h1)\n",
    "\n",
    "    h2 = np.matmul(numpy_x[i][1], W_xh) + np.matmul(h1, W_hh)\n",
    "    h2 = numpy_relu(h2)\n",
    "\n",
    "    h3 = np.matmul(numpy_x[i][2], W_xh) + np.matmul(h2, W_hh)\n",
    "    h3 = numpy_relu(h3)\n",
    "    \n",
    "    # 각 time마다 나온 hidden값을 concatenate\n",
    "    out = np.concatenate((h1, h2, h3), axis=1) \n",
    "    # 최종 시점에서의 hidden값\n",
    "    hn = h3 \n",
    "    \n",
    "    numpy_out.append(out)\n",
    "    numpy_hn.append(hn)\n",
    "\n",
    "# 각 data의 나온 모든 hidden값들을 concatenate\n",
    "numpy_out = np.concatenate(numpy_out, axis=0) \n",
    "# 각 data의 최종 hidden 값들을 concatenate\n",
    "numpy_hn = np.concatenate(numpy_hn, axis=1)\n",
    "\n",
    "print(numpy_out)\n",
    "print()\n",
    "print(numpy_hn)"
   ]
  },
  {
   "cell_type": "markdown",
   "id": "e76da2d1",
   "metadata": {},
   "source": [
    "### (2) RNN with pytorch (with higher-level RNN class)"
   ]
  },
  {
   "cell_type": "code",
   "execution_count": 29,
   "id": "895549a1",
   "metadata": {},
   "outputs": [],
   "source": [
    "rnn = nn.RNN(input_size=5, hidden_size=2, \n",
    "             num_layers=1, nonlinearity='relu',\n",
    "             bias=False, batch_first=True)"
   ]
  },
  {
   "cell_type": "markdown",
   "id": "e645ada4",
   "metadata": {},
   "source": [
    "### [KOR]\n",
    "- <span style = 'font-size:1.2em;line-height:1.5em'>rnn의 현재 W_xh, W_hh값은 random하게 정해져있는 상태</span>\n",
    "- <span style = 'font-size:1.2em;line-height:1.5em'>위에서 정한 W_xh, W_hh로 이를 대체하자</span>\n",
    "\n",
    "### [ENG]\n",
    "- <span style = 'font-size:1.2em;line-height:1.5em'>The initial value of each parameter (W_xh, W_hh) is randomly selected.</span>\n",
    "- <span style = 'font-size:1.2em;line-height:1.5em'>Replace these values with previously declared ones</span>"
   ]
  },
  {
   "cell_type": "markdown",
   "id": "4a2b8f9b",
   "metadata": {},
   "source": [
    "- <span style = 'font-size:1.1em;line-height:1.5em'><b>[KOR]</b> rnn에 어떤 parameter들이 있는지 확인하기</span>\n",
    "- <span style = 'font-size:1.1em;line-height:1.5em'><b>[ENG]</b> Check parameter values</span>"
   ]
  },
  {
   "cell_type": "code",
   "execution_count": 30,
   "id": "0a7b08ca",
   "metadata": {},
   "outputs": [
    {
     "name": "stdout",
     "output_type": "stream",
     "text": [
      "weight_ih_l0\n",
      "torch.Size([2, 5])\n",
      "\n",
      "weight_hh_l0\n",
      "torch.Size([2, 2])\n",
      "\n"
     ]
    }
   ],
   "source": [
    "for layer in rnn.state_dict():\n",
    "    print(layer)\n",
    "    print(rnn.state_dict()[layer].size())\n",
    "    print()"
   ]
  },
  {
   "cell_type": "code",
   "execution_count": 31,
   "id": "118a5318",
   "metadata": {},
   "outputs": [],
   "source": [
    "W_xh = np.array([[1,0],[0,1],[1,0],[0,1],[1,1]])\n",
    "W_hh = np.array([[1,1],[1,1]])\n",
    "h0 = np.array([[[0,0]]])"
   ]
  },
  {
   "cell_type": "markdown",
   "id": "b749525a",
   "metadata": {},
   "source": [
    "- <span style = 'font-size:1.1em;line-height:1.5em'><b>[KOR]</b> rnn의 parameter에 들어있던 값들을 미리 지정한 값으로 대체하기</span>\n",
    "- <span style = 'font-size:1.1em;line-height:1.5em'><b>[ENG]</b> Replace parameter values of RNN with previously declared ones</span>"
   ]
  },
  {
   "cell_type": "code",
   "execution_count": 32,
   "id": "e37c871b",
   "metadata": {},
   "outputs": [],
   "source": [
    "W_xh = torch.from_numpy(np.transpose(W_xh))\n",
    "W_hh = torch.from_numpy(np.transpose(W_hh))\n",
    "with torch.no_grad():\n",
    "    rnn.weight_ih_l0 = nn.Parameter(W_xh.float())\n",
    "    rnn.weight_hh_l0 = nn.Parameter(W_hh.float())"
   ]
  },
  {
   "cell_type": "markdown",
   "id": "0bb7f0b9",
   "metadata": {},
   "source": [
    "### [KOR]\n",
    "- <span style = 'font-size:1.2em;line-height:1.5em'>Forward Propagation을 실행</span>\n",
    "    - <span style = 'font-size:1.1em;line-height:1.5em'>hs: 각 시점의 hidden_state 값</span>\n",
    "    - <span style = 'font-size:1.1em;line-height:1.5em'>out: 최종 시점의 hidden_state 값</span>\n",
    "\n",
    "### [ENG]\n",
    "- <span style = 'font-size:1.2em;line-height:1.5em'>Calculate the output value (Forward Propagation)</span>\n",
    "    - <span style = 'font-size:1.1em;line-height:1.5em'>hs: The values of hidden state for each time.</span>\n",
    "    - <span style = 'font-size:1.1em;line-height:1.5em'>out: Final output value </span>"
   ]
  },
  {
   "cell_type": "code",
   "execution_count": 33,
   "id": "4ffdb9ca",
   "metadata": {},
   "outputs": [
    {
     "name": "stdout",
     "output_type": "stream",
     "text": [
      "tensor([[[1., 1., 1., 1., 1.],\n",
      "         [2., 2., 2., 2., 2.],\n",
      "         [3., 3., 3., 3., 3.]],\n",
      "\n",
      "        [[4., 4., 4., 4., 4.],\n",
      "         [5., 5., 5., 5., 5.],\n",
      "         [6., 6., 6., 6., 6.]]])\n"
     ]
    }
   ],
   "source": [
    "numpy_x = np.array([[[1,1,1,1,1],[2,2,2,2,2],[3,3,3,3,3]], \n",
    "                    [[4,4,4,4,4],[5,5,5,5,5],[6,6,6,6,6]]])\n",
    "torch_x = torch.Tensor(numpy_x)\n",
    "print(torch_x)"
   ]
  },
  {
   "cell_type": "code",
   "execution_count": 34,
   "id": "a104a064",
   "metadata": {},
   "outputs": [],
   "source": [
    "numpy_x = np.array([[[1,1,1,1,1],[2,2,2,2,2],[3,3,3,3,3]], \n",
    "                    [[3,3,3,3,3],[2,2,2,2,2],[1,1,1,1,1]]])\n",
    "torch_x = torch.Tensor(numpy_x)"
   ]
  },
  {
   "cell_type": "code",
   "execution_count": 35,
   "id": "0a4b92d1",
   "metadata": {},
   "outputs": [
    {
     "name": "stdout",
     "output_type": "stream",
     "text": [
      "tensor([[[ 3.,  3.],\n",
      "         [12., 12.],\n",
      "         [33., 33.]],\n",
      "\n",
      "        [[ 9.,  9.],\n",
      "         [24., 24.],\n",
      "         [51., 51.]]], grad_fn=<TransposeBackward1>)\n",
      "tensor([[[33., 33.],\n",
      "         [51., 51.]]], grad_fn=<StackBackward0>)\n"
     ]
    }
   ],
   "source": [
    "torch_out, torch_hn = rnn(torch_x)\n",
    "print(torch_out)\n",
    "print(torch_hn)"
   ]
  },
  {
   "cell_type": "code",
   "execution_count": 36,
   "id": "6e97f535",
   "metadata": {},
   "outputs": [
    {
     "name": "stdout",
     "output_type": "stream",
     "text": [
      "[[[ 3  3]\n",
      "  [12 12]\n",
      "  [33 33]]\n",
      "\n",
      " [[ 9  9]\n",
      "  [24 24]\n",
      "  [51 51]]]\n",
      "tensor([[[ 3.,  3.],\n",
      "         [12., 12.],\n",
      "         [33., 33.]],\n",
      "\n",
      "        [[ 9.,  9.],\n",
      "         [24., 24.],\n",
      "         [51., 51.]]], grad_fn=<TransposeBackward1>)\n"
     ]
    }
   ],
   "source": [
    "print(numpy_out)\n",
    "print(torch_out)"
   ]
  },
  {
   "cell_type": "code",
   "execution_count": 37,
   "id": "0dbb6c6f",
   "metadata": {},
   "outputs": [
    {
     "name": "stdout",
     "output_type": "stream",
     "text": [
      "[[[33 33]\n",
      "  [51 51]]]\n",
      "tensor([[[33., 33.],\n",
      "         [51., 51.]]], grad_fn=<StackBackward0>)\n"
     ]
    }
   ],
   "source": [
    "print(numpy_hn)\n",
    "print(torch_hn)"
   ]
  },
  {
   "cell_type": "code",
   "execution_count": null,
   "id": "0359402e",
   "metadata": {},
   "outputs": [],
   "source": []
  },
  {
   "cell_type": "code",
   "execution_count": null,
   "id": "2e4fb3ce",
   "metadata": {},
   "outputs": [],
   "source": []
  },
  {
   "cell_type": "code",
   "execution_count": null,
   "id": "eee9d7d9",
   "metadata": {},
   "outputs": [],
   "source": []
  },
  {
   "cell_type": "code",
   "execution_count": null,
   "id": "a994b550",
   "metadata": {},
   "outputs": [],
   "source": []
  },
  {
   "cell_type": "code",
   "execution_count": null,
   "id": "9cc01ce9",
   "metadata": {},
   "outputs": [],
   "source": []
  },
  {
   "cell_type": "code",
   "execution_count": null,
   "id": "10f89d08",
   "metadata": {},
   "outputs": [],
   "source": []
  },
  {
   "cell_type": "code",
   "execution_count": null,
   "id": "e36fc6c1",
   "metadata": {},
   "outputs": [],
   "source": []
  },
  {
   "cell_type": "code",
   "execution_count": null,
   "id": "9bc321a4",
   "metadata": {},
   "outputs": [],
   "source": []
  },
  {
   "cell_type": "code",
   "execution_count": null,
   "id": "9c0a58b9",
   "metadata": {},
   "outputs": [],
   "source": []
  },
  {
   "cell_type": "code",
   "execution_count": null,
   "id": "73cb7cc8",
   "metadata": {},
   "outputs": [],
   "source": []
  },
  {
   "cell_type": "code",
   "execution_count": null,
   "id": "2e1cf476",
   "metadata": {},
   "outputs": [],
   "source": []
  },
  {
   "cell_type": "code",
   "execution_count": null,
   "id": "442739db",
   "metadata": {},
   "outputs": [],
   "source": []
  },
  {
   "cell_type": "code",
   "execution_count": null,
   "id": "eafa3718",
   "metadata": {},
   "outputs": [],
   "source": []
  },
  {
   "cell_type": "code",
   "execution_count": null,
   "id": "83ca6ae1",
   "metadata": {},
   "outputs": [],
   "source": []
  },
  {
   "cell_type": "code",
   "execution_count": null,
   "id": "a135422f",
   "metadata": {},
   "outputs": [],
   "source": [
    "rnn = nn.RNN(input_size=5, hidden_size=2, \n",
    "             num_layers=1, nonlinearity='relu',\n",
    "             bias=False, batch_first=True)"
   ]
  },
  {
   "cell_type": "code",
   "execution_count": null,
   "id": "4c460cd4",
   "metadata": {},
   "outputs": [],
   "source": [
    "W_xh = np.array([[1,0,1,0,1],[0,1,0,1,0]])\n",
    "W_hh = np.array([[1,0],[0,1]])\n",
    "\n",
    "print(W_xh)\n",
    "print(W_hh)"
   ]
  },
  {
   "cell_type": "code",
   "execution_count": null,
   "id": "e3ee5a8d",
   "metadata": {},
   "outputs": [],
   "source": [
    "W_xh = torch.FloatTensor(W_xh)\n",
    "W_hh = torch.FloatTensor(W_hh)\n",
    "\n",
    "# RNN의 parameter값을 우리가 위에서 정의한 값으로 대체\n",
    "with torch.no_grad():\n",
    "    rnn.weight_ih_l0 = nn.Parameter(W_xh)\n",
    "    rnn.weight_hh_l0 = nn.Parameter(W_hh)"
   ]
  },
  {
   "cell_type": "code",
   "execution_count": null,
   "id": "fc66a641",
   "metadata": {},
   "outputs": [],
   "source": [
    "numpy_x = np.array([[[1,1,1,1,1],[2,2,2,2,2],[3,3,3,3,3]], \n",
    "                    [[3,3,3,3,3],[2,2,2,2,2],[1,1,1,1,1]]])\n",
    "torch_x = torch.Tensor(numpy_x)"
   ]
  },
  {
   "cell_type": "code",
   "execution_count": null,
   "id": "40fbff3d",
   "metadata": {},
   "outputs": [],
   "source": [
    "out, h_n = rnn(torch_x)"
   ]
  },
  {
   "cell_type": "code",
   "execution_count": null,
   "id": "549750d9",
   "metadata": {},
   "outputs": [],
   "source": [
    "out"
   ]
  },
  {
   "cell_type": "code",
   "execution_count": null,
   "id": "8b0f5761",
   "metadata": {},
   "outputs": [],
   "source": [
    "h_n"
   ]
  },
  {
   "cell_type": "code",
   "execution_count": null,
   "id": "2951b6c8",
   "metadata": {},
   "outputs": [],
   "source": []
  }
 ],
 "metadata": {
  "kernelspec": {
   "display_name": "Python 3 (ipykernel)",
   "language": "python",
   "name": "python3"
  },
  "language_info": {
   "codemirror_mode": {
    "name": "ipython",
    "version": 3
   },
   "file_extension": ".py",
   "mimetype": "text/x-python",
   "name": "python",
   "nbconvert_exporter": "python",
   "pygments_lexer": "ipython3",
   "version": "3.9.12"
  }
 },
 "nbformat": 4,
 "nbformat_minor": 5
}
