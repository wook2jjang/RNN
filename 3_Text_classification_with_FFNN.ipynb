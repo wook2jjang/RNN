{
 "cells": [
  {
   "cell_type": "code",
   "execution_count": 1,
   "id": "f1da1e79",
   "metadata": {},
   "outputs": [],
   "source": [
    "import os\n",
    "import urllib"
   ]
  },
  {
   "cell_type": "code",
   "execution_count": 2,
   "id": "06b8f708",
   "metadata": {},
   "outputs": [],
   "source": [
    "import copy\n",
    "import re\n",
    "import nltk\n",
    "from nltk.tokenize import TreebankWordTokenizer\n"
   ]
  },
  {
   "cell_type": "code",
   "execution_count": 3,
   "id": "1243a3be",
   "metadata": {},
   "outputs": [],
   "source": [
    "if not os.path.exists('data'):\n",
    "    os.makedirs('data')"
   ]
  },
  {
   "cell_type": "code",
   "execution_count": 4,
   "id": "8df5008b",
   "metadata": {},
   "outputs": [],
   "source": [
    "# data 저장 directory에 데이터 다운로드 받기\n",
    "data_dir = 'data'\n",
    "file_path = f'{data_dir}/AG_news_train.csv'\n",
    "if not os.path.exists(file_path):\n",
    "    url = 'https://raw.githubusercontent.com/mhjabreel/CharCnn_Keras/master/data/ag_news_csv/train.csv'\n",
    "    urllib.request.urlretrieve(url, file_path)"
   ]
  },
  {
   "cell_type": "code",
   "execution_count": 5,
   "id": "d1a816c6",
   "metadata": {},
   "outputs": [],
   "source": [
    "data_dir = 'data'\n",
    "file_path = f'{data_dir}/AG_news_test.csv'\n",
    "if not os.path.exists(file_path):\n",
    "    url = 'https://raw.githubusercontent.com/mhjabreel/CharCnn_Keras/master/data/ag_news_csv/test.csv'\n",
    "    urllib.request.urlretrieve(url, file_path)"
   ]
  },
  {
   "cell_type": "markdown",
   "id": "3f7ff9b1",
   "metadata": {},
   "source": [
    "## 데이터를 열어봅시다"
   ]
  },
  {
   "cell_type": "code",
   "execution_count": 6,
   "id": "4f8e921a",
   "metadata": {},
   "outputs": [],
   "source": [
    "import numpy as np\n",
    "import pandas as pd"
   ]
  },
  {
   "cell_type": "code",
   "execution_count": 7,
   "id": "d911a1c4",
   "metadata": {},
   "outputs": [],
   "source": [
    "df = pd.read_csv('data/AG_news_train.csv', names=['class', 'title', 'description'])"
   ]
  },
  {
   "cell_type": "code",
   "execution_count": 8,
   "id": "563795b1",
   "metadata": {
    "scrolled": true
   },
   "outputs": [
    {
     "data": {
      "text/html": [
       "<div>\n",
       "<style scoped>\n",
       "    .dataframe tbody tr th:only-of-type {\n",
       "        vertical-align: middle;\n",
       "    }\n",
       "\n",
       "    .dataframe tbody tr th {\n",
       "        vertical-align: top;\n",
       "    }\n",
       "\n",
       "    .dataframe thead th {\n",
       "        text-align: right;\n",
       "    }\n",
       "</style>\n",
       "<table border=\"1\" class=\"dataframe\">\n",
       "  <thead>\n",
       "    <tr style=\"text-align: right;\">\n",
       "      <th></th>\n",
       "      <th>class</th>\n",
       "      <th>title</th>\n",
       "      <th>description</th>\n",
       "    </tr>\n",
       "  </thead>\n",
       "  <tbody>\n",
       "    <tr>\n",
       "      <th>0</th>\n",
       "      <td>3</td>\n",
       "      <td>Wall St. Bears Claw Back Into the Black (Reuters)</td>\n",
       "      <td>Reuters - Short-sellers, Wall Street's dwindli...</td>\n",
       "    </tr>\n",
       "    <tr>\n",
       "      <th>1</th>\n",
       "      <td>3</td>\n",
       "      <td>Carlyle Looks Toward Commercial Aerospace (Reu...</td>\n",
       "      <td>Reuters - Private investment firm Carlyle Grou...</td>\n",
       "    </tr>\n",
       "    <tr>\n",
       "      <th>2</th>\n",
       "      <td>3</td>\n",
       "      <td>Oil and Economy Cloud Stocks' Outlook (Reuters)</td>\n",
       "      <td>Reuters - Soaring crude prices plus worries\\ab...</td>\n",
       "    </tr>\n",
       "    <tr>\n",
       "      <th>3</th>\n",
       "      <td>3</td>\n",
       "      <td>Iraq Halts Oil Exports from Main Southern Pipe...</td>\n",
       "      <td>Reuters - Authorities have halted oil export\\f...</td>\n",
       "    </tr>\n",
       "    <tr>\n",
       "      <th>4</th>\n",
       "      <td>3</td>\n",
       "      <td>Oil prices soar to all-time record, posing new...</td>\n",
       "      <td>AFP - Tearaway world oil prices, toppling reco...</td>\n",
       "    </tr>\n",
       "  </tbody>\n",
       "</table>\n",
       "</div>"
      ],
      "text/plain": [
       "   class                                              title  \\\n",
       "0      3  Wall St. Bears Claw Back Into the Black (Reuters)   \n",
       "1      3  Carlyle Looks Toward Commercial Aerospace (Reu...   \n",
       "2      3    Oil and Economy Cloud Stocks' Outlook (Reuters)   \n",
       "3      3  Iraq Halts Oil Exports from Main Southern Pipe...   \n",
       "4      3  Oil prices soar to all-time record, posing new...   \n",
       "\n",
       "                                         description  \n",
       "0  Reuters - Short-sellers, Wall Street's dwindli...  \n",
       "1  Reuters - Private investment firm Carlyle Grou...  \n",
       "2  Reuters - Soaring crude prices plus worries\\ab...  \n",
       "3  Reuters - Authorities have halted oil export\\f...  \n",
       "4  AFP - Tearaway world oil prices, toppling reco...  "
      ]
     },
     "execution_count": 8,
     "metadata": {},
     "output_type": "execute_result"
    }
   ],
   "source": [
    "df.head()"
   ]
  },
  {
   "cell_type": "markdown",
   "id": "3b0f7dbd",
   "metadata": {},
   "source": [
    "- <span style = 'font-size:1.2em;line-height:1.5em'>Class ID는 1~4까지로 총 4개의 클래스가 존재</span>\n",
    "    - <span style = 'font-size:1.1em;line-height:1.5em'>1: World</span>\n",
    "    - <span style = 'font-size:1.1em;line-height:1.5em'>2: Sports</span>\n",
    "    - <span style = 'font-size:1.1em;line-height:1.5em'>3: Business</span>\n",
    "    - <span style = 'font-size:1.1em;line-height:1.5em'>4: Sci/Tech</span>"
   ]
  },
  {
   "cell_type": "markdown",
   "id": "85717d6e",
   "metadata": {},
   "source": [
    "- <span style = 'font-size:1.2em;line-height:1.5em'>나중에 학습, 평가시 편의를 위해 class를 1\\~4에서 0\\~3으로 바꿔줍시다</span>"
   ]
  },
  {
   "cell_type": "code",
   "execution_count": 9,
   "id": "36ac4c62",
   "metadata": {},
   "outputs": [],
   "source": [
    "df['preprocessed_class'] = df['class']-1"
   ]
  },
  {
   "cell_type": "markdown",
   "id": "6c0e2b09",
   "metadata": {},
   "source": [
    "- <span style = 'font-size:1.2em;line-height:1.5em'>데이터를 좀 볼까요?</span>"
   ]
  },
  {
   "cell_type": "code",
   "execution_count": 10,
   "id": "2ff9130c",
   "metadata": {},
   "outputs": [
    {
     "data": {
      "text/plain": [
       "'Wall St. Bears Claw Back Into the Black (Reuters)'"
      ]
     },
     "execution_count": 10,
     "metadata": {},
     "output_type": "execute_result"
    }
   ],
   "source": [
    "df['title'][0]"
   ]
  },
  {
   "cell_type": "code",
   "execution_count": 11,
   "id": "1e316692",
   "metadata": {},
   "outputs": [
    {
     "data": {
      "text/plain": [
       "\"Reuters - Short-sellers, Wall Street's dwindling\\\\band of ultra-cynics, are seeing green again.\""
      ]
     },
     "execution_count": 11,
     "metadata": {},
     "output_type": "execute_result"
    }
   ],
   "source": [
    "df['description'][0]"
   ]
  },
  {
   "cell_type": "markdown",
   "id": "1026838e",
   "metadata": {},
   "source": [
    "- <span style = 'font-size:1.2em;line-height:1.5em'>간단한 텍스트 전처리 코드입니다. (특수문자 제거, 소문자 변환, 불용어 제거 등)</span>"
   ]
  },
  {
   "cell_type": "code",
   "execution_count": 12,
   "id": "3eee6428",
   "metadata": {},
   "outputs": [],
   "source": [
    "def preprocess_english(text):\n",
    "    my_text = copy.copy(text)\n",
    "    my_text = my_text.replace('\\n', '')\n",
    "    sents = nltk.sent_tokenize(my_text)\n",
    "    tokenizer = TreebankWordTokenizer()\n",
    "    stopwords = nltk.corpus.stopwords.words('english')\n",
    "    \n",
    "    p = re.compile('[^A-Za-z]')\n",
    "    result = []\n",
    "    for sent in sents:\n",
    "        sent = sent.lower() # 소문자로 변환\n",
    "        sent = p.sub(' ', sent) # 각 문장에서 특수문자 제거\n",
    "        word_tokens = tokenizer.tokenize(sent) # word tokenization\n",
    "        for token in word_tokens:\n",
    "            if token not in stopwords:\n",
    "                result.append(token) # stopwords removal\n",
    "    result = ' '.join(result)\n",
    "    return result"
   ]
  },
  {
   "cell_type": "code",
   "execution_count": 13,
   "id": "3062e730",
   "metadata": {},
   "outputs": [
    {
     "data": {
      "text/plain": [
       "'reuters short sellers wall street dwindling band ultra cynics seeing green'"
      ]
     },
     "execution_count": 13,
     "metadata": {},
     "output_type": "execute_result"
    }
   ],
   "source": [
    "preprocess_english(df['description'][0])"
   ]
  },
  {
   "cell_type": "code",
   "execution_count": 14,
   "id": "44be3706",
   "metadata": {},
   "outputs": [
    {
     "name": "stdout",
     "output_type": "stream",
     "text": [
      "CPU times: total: 30.1 s\n",
      "Wall time: 30.1 s\n"
     ]
    }
   ],
   "source": [
    "%%time\n",
    "df['preprocessed_desc'] = df['description'].apply(lambda x: preprocess_english(x))"
   ]
  },
  {
   "cell_type": "code",
   "execution_count": 14,
   "id": "688ec324",
   "metadata": {},
   "outputs": [
    {
     "name": "stdout",
     "output_type": "stream",
     "text": [
      " JAKARTA (Reuters) - Non-OPEC oil exporters should consider  increasing output to cool record crude prices, OPEC President  Purnomo Yusgiantoro said on Sunday.\n",
      "\n",
      "jakarta reuters non opec oil exporters consider increasing output cool record crude prices opec president purnomo yusgiantoro said sunday\n"
     ]
    }
   ],
   "source": [
    "print(df['description'][12])\n",
    "print()\n",
    "print(df['preprocessed_desc'][12])"
   ]
  },
  {
   "cell_type": "code",
   "execution_count": 15,
   "id": "70914c38",
   "metadata": {
    "scrolled": true
   },
   "outputs": [
    {
     "data": {
      "text/html": [
       "<div>\n",
       "<style scoped>\n",
       "    .dataframe tbody tr th:only-of-type {\n",
       "        vertical-align: middle;\n",
       "    }\n",
       "\n",
       "    .dataframe tbody tr th {\n",
       "        vertical-align: top;\n",
       "    }\n",
       "\n",
       "    .dataframe thead th {\n",
       "        text-align: right;\n",
       "    }\n",
       "</style>\n",
       "<table border=\"1\" class=\"dataframe\">\n",
       "  <thead>\n",
       "    <tr style=\"text-align: right;\">\n",
       "      <th></th>\n",
       "      <th>class</th>\n",
       "      <th>title</th>\n",
       "      <th>description</th>\n",
       "      <th>preprocessed_class</th>\n",
       "      <th>preprocessed_desc</th>\n",
       "    </tr>\n",
       "  </thead>\n",
       "  <tbody>\n",
       "    <tr>\n",
       "      <th>0</th>\n",
       "      <td>3</td>\n",
       "      <td>Wall St. Bears Claw Back Into the Black (Reuters)</td>\n",
       "      <td>Reuters - Short-sellers, Wall Street's dwindli...</td>\n",
       "      <td>2</td>\n",
       "      <td>reuters short sellers wall street dwindling ba...</td>\n",
       "    </tr>\n",
       "    <tr>\n",
       "      <th>1</th>\n",
       "      <td>3</td>\n",
       "      <td>Carlyle Looks Toward Commercial Aerospace (Reu...</td>\n",
       "      <td>Reuters - Private investment firm Carlyle Grou...</td>\n",
       "      <td>2</td>\n",
       "      <td>reuters private investment firm carlyle group ...</td>\n",
       "    </tr>\n",
       "    <tr>\n",
       "      <th>2</th>\n",
       "      <td>3</td>\n",
       "      <td>Oil and Economy Cloud Stocks' Outlook (Reuters)</td>\n",
       "      <td>Reuters - Soaring crude prices plus worries\\ab...</td>\n",
       "      <td>2</td>\n",
       "      <td>reuters soaring crude prices plus worries econ...</td>\n",
       "    </tr>\n",
       "    <tr>\n",
       "      <th>3</th>\n",
       "      <td>3</td>\n",
       "      <td>Iraq Halts Oil Exports from Main Southern Pipe...</td>\n",
       "      <td>Reuters - Authorities have halted oil export\\f...</td>\n",
       "      <td>2</td>\n",
       "      <td>reuters authorities halted oil export flows ma...</td>\n",
       "    </tr>\n",
       "    <tr>\n",
       "      <th>4</th>\n",
       "      <td>3</td>\n",
       "      <td>Oil prices soar to all-time record, posing new...</td>\n",
       "      <td>AFP - Tearaway world oil prices, toppling reco...</td>\n",
       "      <td>2</td>\n",
       "      <td>afp tearaway world oil prices toppling records...</td>\n",
       "    </tr>\n",
       "    <tr>\n",
       "      <th>...</th>\n",
       "      <td>...</td>\n",
       "      <td>...</td>\n",
       "      <td>...</td>\n",
       "      <td>...</td>\n",
       "      <td>...</td>\n",
       "    </tr>\n",
       "    <tr>\n",
       "      <th>119995</th>\n",
       "      <td>1</td>\n",
       "      <td>Pakistan's Musharraf Says Won't Quit as Army C...</td>\n",
       "      <td>KARACHI (Reuters) - Pakistani President Perve...</td>\n",
       "      <td>0</td>\n",
       "      <td>karachi reuters pakistani president pervez mus...</td>\n",
       "    </tr>\n",
       "    <tr>\n",
       "      <th>119996</th>\n",
       "      <td>2</td>\n",
       "      <td>Renteria signing a top-shelf deal</td>\n",
       "      <td>Red Sox general manager Theo Epstein acknowled...</td>\n",
       "      <td>1</td>\n",
       "      <td>red sox general manager theo epstein acknowled...</td>\n",
       "    </tr>\n",
       "    <tr>\n",
       "      <th>119997</th>\n",
       "      <td>2</td>\n",
       "      <td>Saban not going to Dolphins yet</td>\n",
       "      <td>The Miami Dolphins will put their courtship of...</td>\n",
       "      <td>1</td>\n",
       "      <td>miami dolphins put courtship lsu coach nick sa...</td>\n",
       "    </tr>\n",
       "    <tr>\n",
       "      <th>119998</th>\n",
       "      <td>2</td>\n",
       "      <td>Today's NFL games</td>\n",
       "      <td>PITTSBURGH at NY GIANTS Time: 1:30 p.m. Line: ...</td>\n",
       "      <td>1</td>\n",
       "      <td>pittsburgh ny giants time p line steelers reco...</td>\n",
       "    </tr>\n",
       "    <tr>\n",
       "      <th>119999</th>\n",
       "      <td>2</td>\n",
       "      <td>Nets get Carter from Raptors</td>\n",
       "      <td>INDIANAPOLIS -- All-Star Vince Carter was trad...</td>\n",
       "      <td>1</td>\n",
       "      <td>indianapolis star vince carter traded toronto ...</td>\n",
       "    </tr>\n",
       "  </tbody>\n",
       "</table>\n",
       "<p>120000 rows × 5 columns</p>\n",
       "</div>"
      ],
      "text/plain": [
       "        class                                              title  \\\n",
       "0           3  Wall St. Bears Claw Back Into the Black (Reuters)   \n",
       "1           3  Carlyle Looks Toward Commercial Aerospace (Reu...   \n",
       "2           3    Oil and Economy Cloud Stocks' Outlook (Reuters)   \n",
       "3           3  Iraq Halts Oil Exports from Main Southern Pipe...   \n",
       "4           3  Oil prices soar to all-time record, posing new...   \n",
       "...       ...                                                ...   \n",
       "119995      1  Pakistan's Musharraf Says Won't Quit as Army C...   \n",
       "119996      2                  Renteria signing a top-shelf deal   \n",
       "119997      2                    Saban not going to Dolphins yet   \n",
       "119998      2                                  Today's NFL games   \n",
       "119999      2                       Nets get Carter from Raptors   \n",
       "\n",
       "                                              description  preprocessed_class  \\\n",
       "0       Reuters - Short-sellers, Wall Street's dwindli...                   2   \n",
       "1       Reuters - Private investment firm Carlyle Grou...                   2   \n",
       "2       Reuters - Soaring crude prices plus worries\\ab...                   2   \n",
       "3       Reuters - Authorities have halted oil export\\f...                   2   \n",
       "4       AFP - Tearaway world oil prices, toppling reco...                   2   \n",
       "...                                                   ...                 ...   \n",
       "119995   KARACHI (Reuters) - Pakistani President Perve...                   0   \n",
       "119996  Red Sox general manager Theo Epstein acknowled...                   1   \n",
       "119997  The Miami Dolphins will put their courtship of...                   1   \n",
       "119998  PITTSBURGH at NY GIANTS Time: 1:30 p.m. Line: ...                   1   \n",
       "119999  INDIANAPOLIS -- All-Star Vince Carter was trad...                   1   \n",
       "\n",
       "                                        preprocessed_desc  \n",
       "0       reuters short sellers wall street dwindling ba...  \n",
       "1       reuters private investment firm carlyle group ...  \n",
       "2       reuters soaring crude prices plus worries econ...  \n",
       "3       reuters authorities halted oil export flows ma...  \n",
       "4       afp tearaway world oil prices toppling records...  \n",
       "...                                                   ...  \n",
       "119995  karachi reuters pakistani president pervez mus...  \n",
       "119996  red sox general manager theo epstein acknowled...  \n",
       "119997  miami dolphins put courtship lsu coach nick sa...  \n",
       "119998  pittsburgh ny giants time p line steelers reco...  \n",
       "119999  indianapolis star vince carter traded toronto ...  \n",
       "\n",
       "[120000 rows x 5 columns]"
      ]
     },
     "execution_count": 15,
     "metadata": {},
     "output_type": "execute_result"
    }
   ],
   "source": [
    "df"
   ]
  },
  {
   "cell_type": "markdown",
   "id": "a952ee7a",
   "metadata": {},
   "source": [
    "- <span style = 'font-size:1.2em;line-height:1.5em'>전처리된 본문을 TF-IDF로 벡터 형태로 나타내봅시다.</span>"
   ]
  },
  {
   "cell_type": "code",
   "execution_count": 16,
   "id": "5135a79e",
   "metadata": {},
   "outputs": [],
   "source": [
    "from sklearn.model_selection import train_test_split\n",
    "from sklearn.feature_extraction.text import TfidfVectorizer"
   ]
  },
  {
   "cell_type": "code",
   "execution_count": 17,
   "id": "cf7e34e6",
   "metadata": {},
   "outputs": [],
   "source": [
    "# 전체 데이터를 train, test data로 나누고\n",
    "df_trn, df_tst = train_test_split(df, test_size=0.2, stratify=df['preprocessed_class'])"
   ]
  },
  {
   "cell_type": "code",
   "execution_count": 18,
   "id": "95456911",
   "metadata": {},
   "outputs": [
    {
     "data": {
      "text/html": [
       "<div>\n",
       "<style scoped>\n",
       "    .dataframe tbody tr th:only-of-type {\n",
       "        vertical-align: middle;\n",
       "    }\n",
       "\n",
       "    .dataframe tbody tr th {\n",
       "        vertical-align: top;\n",
       "    }\n",
       "\n",
       "    .dataframe thead th {\n",
       "        text-align: right;\n",
       "    }\n",
       "</style>\n",
       "<table border=\"1\" class=\"dataframe\">\n",
       "  <thead>\n",
       "    <tr style=\"text-align: right;\">\n",
       "      <th></th>\n",
       "      <th>class</th>\n",
       "      <th>title</th>\n",
       "      <th>description</th>\n",
       "      <th>preprocessed_class</th>\n",
       "      <th>preprocessed_desc</th>\n",
       "    </tr>\n",
       "  </thead>\n",
       "  <tbody>\n",
       "    <tr>\n",
       "      <th>111914</th>\n",
       "      <td>1</td>\n",
       "      <td>Rescuers search for more survivors as Philippi...</td>\n",
       "      <td>REAL, Philippines : Philippine rescuers are di...</td>\n",
       "      <td>0</td>\n",
       "      <td>real philippines philippine rescuers digging r...</td>\n",
       "    </tr>\n",
       "    <tr>\n",
       "      <th>9036</th>\n",
       "      <td>3</td>\n",
       "      <td>UPDATE 1-Citigroup to acquire First American B...</td>\n",
       "      <td>Citigroup Inc. (CN: Quote, Profile, Research) ...</td>\n",
       "      <td>2</td>\n",
       "      <td>citigroup inc cn quote profile research world ...</td>\n",
       "    </tr>\n",
       "    <tr>\n",
       "      <th>49094</th>\n",
       "      <td>4</td>\n",
       "      <td>Neb. Professor Connects Football, Physics (AP)</td>\n",
       "      <td>AP - A physics professor at the University of ...</td>\n",
       "      <td>3</td>\n",
       "      <td>ap physics professor university nebraska linco...</td>\n",
       "    </tr>\n",
       "    <tr>\n",
       "      <th>96487</th>\n",
       "      <td>1</td>\n",
       "      <td>After Iraq, Spain Turns Again Toward Latin Ame...</td>\n",
       "      <td>SAN JOSE, Costa Rica (Reuters) - After spendi...</td>\n",
       "      <td>0</td>\n",
       "      <td>san jose costa rica reuters spending several y...</td>\n",
       "    </tr>\n",
       "    <tr>\n",
       "      <th>72829</th>\n",
       "      <td>3</td>\n",
       "      <td>CME Profit Up on Trading Volume Growth</td>\n",
       "      <td>CHICAGO (Reuters) - Chicago Mercantile Exchan...</td>\n",
       "      <td>2</td>\n",
       "      <td>chicago reuters chicago mercantile exchange ho...</td>\n",
       "    </tr>\n",
       "  </tbody>\n",
       "</table>\n",
       "</div>"
      ],
      "text/plain": [
       "        class                                              title  \\\n",
       "111914      1  Rescuers search for more survivors as Philippi...   \n",
       "9036        3  UPDATE 1-Citigroup to acquire First American B...   \n",
       "49094       4     Neb. Professor Connects Football, Physics (AP)   \n",
       "96487       1  After Iraq, Spain Turns Again Toward Latin Ame...   \n",
       "72829       3             CME Profit Up on Trading Volume Growth   \n",
       "\n",
       "                                              description  preprocessed_class  \\\n",
       "111914  REAL, Philippines : Philippine rescuers are di...                   0   \n",
       "9036    Citigroup Inc. (CN: Quote, Profile, Research) ...                   2   \n",
       "49094   AP - A physics professor at the University of ...                   3   \n",
       "96487    SAN JOSE, Costa Rica (Reuters) - After spendi...                   0   \n",
       "72829    CHICAGO (Reuters) - Chicago Mercantile Exchan...                   2   \n",
       "\n",
       "                                        preprocessed_desc  \n",
       "111914  real philippines philippine rescuers digging r...  \n",
       "9036    citigroup inc cn quote profile research world ...  \n",
       "49094   ap physics professor university nebraska linco...  \n",
       "96487   san jose costa rica reuters spending several y...  \n",
       "72829   chicago reuters chicago mercantile exchange ho...  "
      ]
     },
     "execution_count": 18,
     "metadata": {},
     "output_type": "execute_result"
    }
   ],
   "source": [
    "df_trn.head()"
   ]
  },
  {
   "cell_type": "code",
   "execution_count": 21,
   "id": "d2dd77f9",
   "metadata": {},
   "outputs": [],
   "source": [
    "EMBED_DIM = 5000 # 5000차원의 벡터로 나타내봅시다.\n",
    "vectorizer = TfidfVectorizer(max_features=EMBED_DIM)\n",
    "\n",
    "#train 데이터의 preprocessed_desc column의 데이터로부터 TF-IDF를 학습하고\n",
    "vectorizer.fit(df_trn['preprocessed_desc'])\n",
    "\n",
    "# train, test data의 preprocessed_desc를 TF-IDF로 변환해줍시다.\n",
    "x_trn = vectorizer.transform(df_trn['preprocessed_desc']).toarray()\n",
    "x_tst = vectorizer.transform(df_tst['preprocessed_desc']).toarray()"
   ]
  },
  {
   "cell_type": "code",
   "execution_count": 25,
   "id": "579d192a",
   "metadata": {},
   "outputs": [],
   "source": [
    "y_trn = df_trn['preprocessed_class'].values\n",
    "y_tst = df_tst['preprocessed_class'].values"
   ]
  },
  {
   "cell_type": "markdown",
   "id": "7ae897df",
   "metadata": {},
   "source": [
    "# Make Custom Dataset \n",
    "## (week05의 4.use custom dataset.ipynb 참고)\n",
    "<span style = 'font-size:1.2em;line-height:1.5em'>Pytorch에서 제공하는 torch.utils.data.Dataset을 활용하면 직접 custom dataset을 만들수 있습니다.</span>\n",
    "\n",
    "```python\n",
    "from torch.utils.data import Dataset\n",
    "\n",
    "class CustomDataset(Dataset):\n",
    "    def __init__(self):\n",
    "        # 데이터의 전처리를 해주는 부분\n",
    "        pass\n",
    "    \n",
    "    def __len__(self):\n",
    "        # 데이터셋의 길이. 즉, 총 샘플 갯수를 적어주는 부분\n",
    "        pass\n",
    "    \n",
    "    def __getitem__(self, idx):\n",
    "        # 데이터 셋에서 index를 받으면 해당 index에 해당하는 샘플을 가져오는 함수\n",
    "```"
   ]
  },
  {
   "cell_type": "code",
   "execution_count": 19,
   "id": "4c395177",
   "metadata": {},
   "outputs": [],
   "source": [
    "from torch.utils.data import Dataset\n",
    "from torch.utils.data import DataLoader"
   ]
  },
  {
   "cell_type": "code",
   "execution_count": 20,
   "id": "43dc1e90",
   "metadata": {},
   "outputs": [],
   "source": [
    "class MyDataset(Dataset):\n",
    "    def __init__(self, x, y):\n",
    "        self.x = x\n",
    "        self.y = y\n",
    "        \n",
    "    def __len__(self):\n",
    "        return len(self.y)\n",
    "    \n",
    "    def __getitem__(self, idx):\n",
    "        data = self.x[idx]\n",
    "        label = self.y[idx]\n",
    "        return data, label\n",
    "    \n",
    "trn_dset = MyDataset(x_trn, y_trn)\n",
    "tst_dset = MyDataset(x_tst, y_tst)"
   ]
  },
  {
   "cell_type": "code",
   "execution_count": 21,
   "id": "bfdcd6aa",
   "metadata": {},
   "outputs": [],
   "source": [
    "trn_dset = MyDataset(x_trn, y_trn)\n",
    "tst_dset = MyDataset(x_tst, y_tst)"
   ]
  },
  {
   "cell_type": "code",
   "execution_count": 22,
   "id": "3c99546d",
   "metadata": {},
   "outputs": [
    {
     "data": {
      "text/plain": [
       "(array([0., 0., 0., ..., 0., 0., 0.]), 0)"
      ]
     },
     "execution_count": 22,
     "metadata": {},
     "output_type": "execute_result"
    }
   ],
   "source": [
    "trn_dset.__getitem__(0)"
   ]
  },
  {
   "cell_type": "markdown",
   "id": "73dafc3e",
   "metadata": {},
   "source": [
    "# 모델 정의하기"
   ]
  },
  {
   "cell_type": "markdown",
   "id": "b8001fa0",
   "metadata": {},
   "source": [
    "- <span style = 'font-size:1.2em;line-height:1.5em'>간단한 3-layer FFNN을 정의합시다.</span>\n",
    "    - <span style = 'font-size:1.1em;line-height:1.5em'>input의 차원은 EMBED_DIM (여기선 5000)</span>\n",
    "    - <span style = 'font-size:1.1em;line-height:1.5em'>output의 차원은 class 수(여기선 4)</span>"
   ]
  },
  {
   "cell_type": "code",
   "execution_count": 23,
   "id": "84dfc1b9",
   "metadata": {},
   "outputs": [],
   "source": [
    "import torch\n",
    "import torch.nn as nn\n",
    "import torch.nn.functional as F\n",
    "import torch.optim as optim"
   ]
  },
  {
   "cell_type": "code",
   "execution_count": 24,
   "id": "45b8ec10",
   "metadata": {},
   "outputs": [],
   "source": [
    "class MyNet(nn.Module):\n",
    "    def __init__(self, in_dim, h1_dim, h2_dim, out_dim):\n",
    "        super(MyNet, self).__init__()\n",
    "        self.fc1 = nn.Linear(in_dim, h1_dim)\n",
    "        self.fc2 = nn.Linear(h1_dim, h2_dim)\n",
    "        self.fc3 = nn.Linear(h2_dim, out_dim)\n",
    "        \n",
    "    def forward(self, x):\n",
    "        out = self.fc1(x)\n",
    "        out = F.relu(out)\n",
    "        out = self.fc2(out)\n",
    "        out = F.relu(out)\n",
    "        out = self.fc3(out)\n",
    "        return out"
   ]
  },
  {
   "cell_type": "markdown",
   "id": "52770167",
   "metadata": {},
   "source": [
    "# train() 함수\n",
    "### (Week03의 '4_코드_정리.ipynb' 참조)\n",
    "\n",
    "\n",
    "- <span style = 'font-size:1.2em;line-height:1.5em'>`train()`함수는 각 iteration마다 다음과 같이 진행됩니다.</span>\n",
    "    - <span style = 'font-size:1.1em;line-height:1.5em'><b>Step 1.</b> batch_loader로부터 mini-batch x, y 데이터를 획득, tensor로 변환한 뒤, 원하는 device에 위치시키기</span>\n",
    "    - <span style = 'font-size:1.1em;line-height:1.5em'><b>Step 2.</b> 지난 batch로부터 계산했던 gradient를 초기화(`zero_grad()`)</span>\n",
    "    - <span style = 'font-size:1.1em;line-height:1.5em'><b>Step 3.</b> 모델에 batch x를 입력하여 forward propagation</span>\n",
    "    - <span style = 'font-size:1.1em;line-height:1.5em'><b>Step 4.</b> loss function에 모델이 예측한 각 클래스에 속할 확률(`y_pred_prob`)과 실제 레이블 (`y`)을 넣어서 loss 계산</span>\n",
    "    - <span style = 'font-size:1.1em;line-height:1.5em'><b>Step 5.</b> Backpropagation으로 각 parameter의 gradient를 계산</span>\n",
    "    - <span style = 'font-size:1.1em;line-height:1.5em'><b>Step 6.</b> Gradient Descent로 parameter값 update</span>\n",
    "    - <span style = 'font-size:1.1em;line-height:1.5em'><b>Step 7.</b> `trn_loss` 변수에 mini-batch loss를 누적해서 합산</span>\n",
    "    - <span style = 'font-size:1.1em;line-height:1.5em'><b>Step 8.</b> 데이터 한 개당 평균 train loss 산출</span>"
   ]
  },
  {
   "cell_type": "code",
   "execution_count": 25,
   "id": "471d6277",
   "metadata": {},
   "outputs": [],
   "source": [
    "def train(model, data_loader, optimizer, criterion, device):\n",
    "    model.train() # 모델을 학습모드로!\n",
    "    trn_loss = 0\n",
    "    for i, (x, y) in enumerate(data_loader):\n",
    "        # Step 1. mini-batch에서 x,y 데이터를 얻고, 원하는 device에 위치시키기\n",
    "        x = torch.tensor(x, dtype=torch.float32).to(device)\n",
    "        y = torch.LongTensor(y).to(device)\n",
    "        \n",
    "        # Step 2. gradient 초기화\n",
    "        optimizer.zero_grad()\n",
    "        \n",
    "        # Step 3. Forward Propagation\n",
    "        y_pred_prob = model(x)\n",
    "        \n",
    "        # Step 4. Loss Calculation\n",
    "        loss = criterion(y_pred_prob, y)\n",
    "        \n",
    "        # Step 5. Gradient Calculation (Backpropagation)\n",
    "        loss.backward()\n",
    "        \n",
    "        # Step 6. Update Parameter (by Gradient Descent)\n",
    "        optimizer.step()\n",
    "        \n",
    "        # Step 7. trn_loss 변수에 mini-batch loss를 누적해서 합산\n",
    "        trn_loss += loss.item()\n",
    "        \n",
    "    # Step 8. 데이터 한 개당 평균 train loss\n",
    "    avg_trn_loss = trn_loss / len(data_loader.dataset)\n",
    "    return avg_trn_loss"
   ]
  },
  {
   "cell_type": "markdown",
   "id": "e7623bb8",
   "metadata": {},
   "source": [
    "# evaluate()함수\n",
    "\n",
    "### (Week03의 '4_코드_정리.ipynb' 참조)\n",
    "\n",
    "- <span style = 'font-size:1.2em;line-height:1.5em'>`evaluate()`함수는 각 iteration마다 다음과 같이 진행됩니다.</span>\n",
    "    - <span style = 'font-size:1.1em;line-height:1.5em'><b>Step 1.</b> batch_loader로부터 mini-batch x, y 데이터를 획득, tensor로 변환한 뒤, 원하는 device에 위치시키기</span>\n",
    "    - <span style = 'font-size:1.1em;line-height:1.5em'><b>Step 2.</b> 모델에 batch x를 입력하여 forward propagation</span>\n",
    "    - <span style = 'font-size:1.1em;line-height:1.5em'><b>Step 3.</b> loss function에 모델이 예측한 각 클래스에 속할 확률(`y_pred_prob`)과 실제 레이블 (`y`)을 넣어서 loss 계산</span>\n",
    "    - <span style = 'font-size:1.1em;line-height:1.5em'><b>Step 4.</b> 모델이 예측하는 레이블을 산출 (with `torch.argmax()`)</span>\n",
    "    - <span style = 'font-size:1.1em;line-height:1.5em'><b>Step 5.</b> Minibatch의 실제 레이블(`y`)과 예측 레이블(`y_pred_label`)을 누적하여 저장</span>\n",
    "    - <span style = 'font-size:1.1em;line-height:1.5em'><b>Step 6.</b> `eval_loss` 변수에 mini-batch loss를 누적해서 합산</span>\n",
    "    - <span style = 'font-size:1.1em;line-height:1.5em'><b>Step 7.</b> 데이터 한 개당 평균 evaluation loss와 accuracy 산출</span>"
   ]
  },
  {
   "cell_type": "code",
   "execution_count": 26,
   "id": "22e2467a",
   "metadata": {},
   "outputs": [],
   "source": [
    "def evaluate(model, data_loader, optimizer, criterion, device):\n",
    "    model.eval() # 모델을 평가모드로!\n",
    "    eval_loss = 0\n",
    "    \n",
    "    results_pred = []\n",
    "    results_real = []\n",
    "    with torch.no_grad(): # evaluate()함수에는 단순 forward propagation만 할 뿐, gradient 계산 필요 X.\n",
    "        for i, (x, y) in enumerate(data_loader):\n",
    "            # Step 1. mini-batch에서 x,y 데이터를 얻고, 원하는 device에 위치시키기\n",
    "            x = torch.tensor(x, dtype=torch.float32).to(device)\n",
    "            y = torch.LongTensor(y).to(device)\n",
    "\n",
    "            # Step 2. Forward Propagation\n",
    "            y_pred_prob = model(x)\n",
    "\n",
    "            # Step 3. Loss Calculation\n",
    "            loss = criterion(y_pred_prob, y)\n",
    "            \n",
    "            # Step 4. Predict label\n",
    "            y_pred_label = torch.argmax(y_pred_prob, dim=1)\n",
    "            \n",
    "            # Step 5. Save real and predicte label\n",
    "            results_pred.extend(y_pred_label.detach().cpu().numpy())\n",
    "            results_real.extend(y.detach().cpu().numpy())\n",
    "            \n",
    "            # Step 6. eval_loss변수에 mini-batch loss를 누적해서 합산\n",
    "            eval_loss += loss.item()\n",
    "\n",
    "    # Step 7. 데이터 한 개당 평균 eval_loss와 accuracy구하기\n",
    "    avg_eval_loss = eval_loss / len(data_loader.dataset)\n",
    "    results_pred = np.array(results_pred)\n",
    "    results_real = np.array(results_real)\n",
    "    accuracy = np.sum(results_pred == results_real) / len(results_real)\n",
    "    \n",
    "    return avg_eval_loss, accuracy"
   ]
  },
  {
   "cell_type": "markdown",
   "id": "64754869",
   "metadata": {},
   "source": [
    "# 실제 모델 학습 및 평가하기"
   ]
  },
  {
   "cell_type": "code",
   "execution_count": 27,
   "id": "88995660",
   "metadata": {},
   "outputs": [],
   "source": [
    "device = torch.device('cuda' if torch.cuda.is_available() else 'cpu')"
   ]
  },
  {
   "cell_type": "code",
   "execution_count": 28,
   "id": "ff8f3d12",
   "metadata": {},
   "outputs": [],
   "source": [
    "model = MyNet(in_dim=EMBED_DIM, h1_dim=512, h2_dim=64, out_dim=4)\n",
    "model = model.to(device)"
   ]
  },
  {
   "cell_type": "markdown",
   "id": "7a273dbd",
   "metadata": {},
   "source": [
    "- <span style = 'font-size:1.2em;line-height:1.5em'>학습한 모델을 저장할 directory 생성하기</span>"
   ]
  },
  {
   "cell_type": "code",
   "execution_count": 29,
   "id": "aac3ab73",
   "metadata": {},
   "outputs": [],
   "source": [
    "save_dir = 'models'\n",
    "if not os.path.exists(save_dir):\n",
    "    os.makedirs(save_dir)"
   ]
  },
  {
   "cell_type": "markdown",
   "id": "ef2488cb",
   "metadata": {},
   "source": [
    "- <span style = 'font-size:1.2em;line-height:1.5em'>필요한 hyperparameter값 설정하기</span>"
   ]
  },
  {
   "cell_type": "code",
   "execution_count": 30,
   "id": "ac13e2b9",
   "metadata": {},
   "outputs": [],
   "source": [
    "N_EPOCHS = 10\n",
    "LR = 2e-4\n",
    "BATCH_SIZE = 2**8"
   ]
  },
  {
   "cell_type": "markdown",
   "id": "5b391e05",
   "metadata": {},
   "source": [
    "- <span style = 'font-size:1.2em;line-height:1.5em'>Mini-batch를 자동으로 생성할 DataLoader준비하기</span>"
   ]
  },
  {
   "cell_type": "code",
   "execution_count": 31,
   "id": "77e45c2e",
   "metadata": {},
   "outputs": [],
   "source": [
    "trn_loader = DataLoader(trn_dset, \n",
    "                        batch_size=BATCH_SIZE, \n",
    "                        shuffle=True, \n",
    "                        drop_last=True)\n",
    "tst_loader = DataLoader(tst_dset, \n",
    "                        batch_size=BATCH_SIZE, \n",
    "                        shuffle=False, \n",
    "                        drop_last=False)"
   ]
  },
  {
   "cell_type": "markdown",
   "id": "dc50cdfc",
   "metadata": {},
   "source": [
    "- <span style = 'font-size:1.2em;line-height:1.5em'>loss function정의하기</span>"
   ]
  },
  {
   "cell_type": "code",
   "execution_count": 32,
   "id": "81b9ac23",
   "metadata": {},
   "outputs": [],
   "source": [
    "loss_func = nn.CrossEntropyLoss(reduction='sum')"
   ]
  },
  {
   "cell_type": "markdown",
   "id": "f84d6347",
   "metadata": {},
   "source": [
    "- <span style = 'font-size:1.2em;line-height:1.5em'>optimizer 생성하기</span>"
   ]
  },
  {
   "cell_type": "code",
   "execution_count": 33,
   "id": "5067d7de",
   "metadata": {},
   "outputs": [],
   "source": [
    "my_opt = optim.Adam(model.parameters(), lr = LR)"
   ]
  },
  {
   "cell_type": "markdown",
   "id": "4e5b0069",
   "metadata": {},
   "source": [
    "- <span style = 'font-size:1.2em;line-height:1.5em'>매 epoch에 드는 시간을 측정하는 함수</span>"
   ]
  },
  {
   "cell_type": "code",
   "execution_count": 34,
   "id": "3cbfc6cf",
   "metadata": {},
   "outputs": [],
   "source": [
    "import time\n",
    "\n",
    "def epoch_time(start_time, end_time):\n",
    "    elapsed_time = end_time - start_time\n",
    "    elapsed_mins = int(elapsed_time / 60)\n",
    "    elapsed_secs = int(elapsed_time - (elapsed_mins * 60))\n",
    "    return elapsed_mins, elapsed_secs"
   ]
  },
  {
   "cell_type": "markdown",
   "id": "31eaecbd",
   "metadata": {},
   "source": [
    "- <span style = 'font-size:1.2em;line-height:1.5em'>trn_data에 대해서 train()함수를, tst_data에 대해서 evaluate()함수를 반복적으로 호출하면서 모델을 학습</span>\n",
    "    - <span style = 'font-size:1.2em;line-height:1.5em'>매 epoch마다 학습이 마무리되면, 모델 평가를 진행한다</span>"
   ]
  },
  {
   "cell_type": "code",
   "execution_count": 35,
   "id": "533740db",
   "metadata": {},
   "outputs": [
    {
     "name": "stderr",
     "output_type": "stream",
     "text": [
      "C:\\Users\\user\\AppData\\Local\\Temp\\ipykernel_1820\\2564748835.py:6: UserWarning: To copy construct from a tensor, it is recommended to use sourceTensor.clone().detach() or sourceTensor.clone().detach().requires_grad_(True), rather than torch.tensor(sourceTensor).\n",
      "  x = torch.tensor(x, dtype=torch.float32).to(device)\n",
      "C:\\Users\\user\\AppData\\Local\\Temp\\ipykernel_1820\\1828975020.py:10: UserWarning: To copy construct from a tensor, it is recommended to use sourceTensor.clone().detach() or sourceTensor.clone().detach().requires_grad_(True), rather than torch.tensor(sourceTensor).\n",
      "  x = torch.tensor(x, dtype=torch.float32).to(device)\n"
     ]
    },
    {
     "name": "stdout",
     "output_type": "stream",
     "text": [
      "Epoch: 01 | Time: 0m 17s\n",
      "\tTrain Loss: 0.703 | Test Loss: 0.331 | Test Acc: 89.450% \n",
      "Epoch: 02 | Time: 0m 17s\n",
      "\tTrain Loss: 0.290 | Test Loss: 0.302 | Test Acc: 89.917% \n",
      "Epoch: 03 | Time: 0m 17s\n",
      "\tTrain Loss: 0.257 | Test Loss: 0.297 | Test Acc: 89.912% \n",
      "Epoch: 04 | Time: 0m 17s\n",
      "\tTrain Loss: 0.240 | Test Loss: 0.296 | Test Acc: 89.842% \n",
      "Epoch: 05 | Time: 0m 17s\n",
      "\tTrain Loss: 0.228 | Test Loss: 0.300 | Test Acc: 89.867% \n",
      "Epoch: 06 | Time: 0m 17s\n",
      "\tTrain Loss: 0.219 | Test Loss: 0.303 | Test Acc: 89.692% \n",
      "Epoch: 07 | Time: 0m 17s\n",
      "\tTrain Loss: 0.211 | Test Loss: 0.307 | Test Acc: 89.496% \n",
      "Epoch: 08 | Time: 0m 17s\n",
      "\tTrain Loss: 0.203 | Test Loss: 0.312 | Test Acc: 89.404% \n",
      "Epoch: 09 | Time: 0m 17s\n",
      "\tTrain Loss: 0.196 | Test Loss: 0.315 | Test Acc: 89.346% \n",
      "Epoch: 10 | Time: 0m 17s\n",
      "\tTrain Loss: 0.189 | Test Loss: 0.320 | Test Acc: 89.221% \n"
     ]
    }
   ],
   "source": [
    "best_val_loss = float('inf')\n",
    "\n",
    "for epoch in range(N_EPOCHS):\n",
    "    \n",
    "    start_time = time.time()\n",
    "    \n",
    "    trn_loss = train(model=model, \n",
    "                     data_loader=trn_loader, \n",
    "                     criterion=loss_func,\n",
    "                     optimizer=my_opt, \n",
    "                     device=device)\n",
    "    val_loss, accuracy = evaluate(model=model, \n",
    "                                  data_loader=tst_loader, \n",
    "                                  criterion=loss_func,\n",
    "                                  optimizer=my_opt, \n",
    "                                  device=device)\n",
    "    \n",
    "    end_time = time.time()\n",
    "    \n",
    "    epoch_mins, epoch_secs = epoch_time(start_time, end_time)\n",
    "    \n",
    "    if val_loss < best_val_loss:\n",
    "        best_val_loss = val_loss\n",
    "        torch.save(model.state_dict(), f'{save_dir}/my_model.pt')\n",
    "    \n",
    "    print(f'Epoch: {epoch+1:02} | Time: {epoch_mins}m {epoch_secs}s')\n",
    "    print(f'\\tTrain Loss: {trn_loss:.3f} | Test Loss: {val_loss:.3f} | Test Acc: {100*accuracy:.3f}% ')"
   ]
  },
  {
   "cell_type": "code",
   "execution_count": null,
   "id": "cf3b68d4",
   "metadata": {},
   "outputs": [],
   "source": []
  },
  {
   "cell_type": "code",
   "execution_count": null,
   "id": "de6108b4",
   "metadata": {},
   "outputs": [],
   "source": []
  }
 ],
 "metadata": {
  "kernelspec": {
   "display_name": "Python 3 (ipykernel)",
   "language": "python",
   "name": "python3"
  },
  "language_info": {
   "codemirror_mode": {
    "name": "ipython",
    "version": 3
   },
   "file_extension": ".py",
   "mimetype": "text/x-python",
   "name": "python",
   "nbconvert_exporter": "python",
   "pygments_lexer": "ipython3",
   "version": "3.9.12"
  }
 },
 "nbformat": 4,
 "nbformat_minor": 5
}
